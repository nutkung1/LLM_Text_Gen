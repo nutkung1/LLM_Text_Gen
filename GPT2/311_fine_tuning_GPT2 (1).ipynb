{
 "cells": [
  {
   "cell_type": "code",
   "execution_count": 1,
   "metadata": {
    "colab": {
     "base_uri": "https://localhost:8080/"
    },
    "id": "xwk6OoI2Ep7Z",
    "outputId": "f8b56a05-ce31-4f55-fa0e-47d7465a56d7"
   },
   "outputs": [
    {
     "name": "stdout",
     "output_type": "stream",
     "text": [
      "Requirement already satisfied: transformers in /Users/suchanatratanarueangrong/miniforge3/lib/python3.10/site-packages (4.31.0)\n",
      "Requirement already satisfied: filelock in /Users/suchanatratanarueangrong/miniforge3/lib/python3.10/site-packages (from transformers) (3.12.2)\n",
      "Requirement already satisfied: huggingface-hub<1.0,>=0.14.1 in /Users/suchanatratanarueangrong/miniforge3/lib/python3.10/site-packages (from transformers) (0.16.4)\n",
      "Requirement already satisfied: numpy>=1.17 in /Users/suchanatratanarueangrong/miniforge3/lib/python3.10/site-packages (from transformers) (1.24.3)\n",
      "Requirement already satisfied: packaging>=20.0 in /Users/suchanatratanarueangrong/miniforge3/lib/python3.10/site-packages (from transformers) (23.1)\n",
      "Requirement already satisfied: pyyaml>=5.1 in /Users/suchanatratanarueangrong/miniforge3/lib/python3.10/site-packages (from transformers) (6.0.1)\n",
      "Requirement already satisfied: regex!=2019.12.17 in /Users/suchanatratanarueangrong/miniforge3/lib/python3.10/site-packages (from transformers) (2023.8.8)\n",
      "Requirement already satisfied: requests in /Users/suchanatratanarueangrong/miniforge3/lib/python3.10/site-packages (from transformers) (2.31.0)\n",
      "Requirement already satisfied: tokenizers!=0.11.3,<0.14,>=0.11.1 in /Users/suchanatratanarueangrong/miniforge3/lib/python3.10/site-packages (from transformers) (0.13.3)\n",
      "Requirement already satisfied: safetensors>=0.3.1 in /Users/suchanatratanarueangrong/miniforge3/lib/python3.10/site-packages (from transformers) (0.3.2)\n",
      "Requirement already satisfied: tqdm>=4.27 in /Users/suchanatratanarueangrong/miniforge3/lib/python3.10/site-packages (from transformers) (4.65.0)\n",
      "Requirement already satisfied: fsspec in /Users/suchanatratanarueangrong/miniforge3/lib/python3.10/site-packages (from huggingface-hub<1.0,>=0.14.1->transformers) (2023.6.0)\n",
      "Requirement already satisfied: typing-extensions>=3.7.4.3 in /Users/suchanatratanarueangrong/miniforge3/lib/python3.10/site-packages (from huggingface-hub<1.0,>=0.14.1->transformers) (4.5.0)\n",
      "Requirement already satisfied: charset-normalizer<4,>=2 in /Users/suchanatratanarueangrong/miniforge3/lib/python3.10/site-packages (from requests->transformers) (3.2.0)\n",
      "Requirement already satisfied: idna<4,>=2.5 in /Users/suchanatratanarueangrong/miniforge3/lib/python3.10/site-packages (from requests->transformers) (3.4)\n",
      "Requirement already satisfied: urllib3<3,>=1.21.1 in /Users/suchanatratanarueangrong/miniforge3/lib/python3.10/site-packages (from requests->transformers) (1.26.16)\n",
      "Requirement already satisfied: certifi>=2017.4.17 in /Users/suchanatratanarueangrong/miniforge3/lib/python3.10/site-packages (from requests->transformers) (2023.5.7)\n"
     ]
    }
   ],
   "source": [
    "!pip install transformers"
   ]
  },
  {
   "cell_type": "code",
   "execution_count": 2,
   "metadata": {
    "colab": {
     "base_uri": "https://localhost:8080/"
    },
    "id": "2oeIkWw-9Wie",
    "outputId": "0af99735-88d5-4a58-acd5-95b2e28ed60d"
   },
   "outputs": [
    {
     "name": "stdout",
     "output_type": "stream",
     "text": [
      "Requirement already satisfied: transformers[torch] in /Users/suchanatratanarueangrong/miniforge3/lib/python3.10/site-packages (4.31.0)\n",
      "Requirement already satisfied: filelock in /Users/suchanatratanarueangrong/miniforge3/lib/python3.10/site-packages (from transformers[torch]) (3.12.2)\n",
      "Requirement already satisfied: huggingface-hub<1.0,>=0.14.1 in /Users/suchanatratanarueangrong/miniforge3/lib/python3.10/site-packages (from transformers[torch]) (0.16.4)\n",
      "Requirement already satisfied: numpy>=1.17 in /Users/suchanatratanarueangrong/miniforge3/lib/python3.10/site-packages (from transformers[torch]) (1.24.3)\n",
      "Requirement already satisfied: packaging>=20.0 in /Users/suchanatratanarueangrong/miniforge3/lib/python3.10/site-packages (from transformers[torch]) (23.1)\n",
      "Requirement already satisfied: pyyaml>=5.1 in /Users/suchanatratanarueangrong/miniforge3/lib/python3.10/site-packages (from transformers[torch]) (6.0.1)\n",
      "Requirement already satisfied: regex!=2019.12.17 in /Users/suchanatratanarueangrong/miniforge3/lib/python3.10/site-packages (from transformers[torch]) (2023.8.8)\n",
      "Requirement already satisfied: requests in /Users/suchanatratanarueangrong/miniforge3/lib/python3.10/site-packages (from transformers[torch]) (2.31.0)\n",
      "Requirement already satisfied: tokenizers!=0.11.3,<0.14,>=0.11.1 in /Users/suchanatratanarueangrong/miniforge3/lib/python3.10/site-packages (from transformers[torch]) (0.13.3)\n",
      "Requirement already satisfied: safetensors>=0.3.1 in /Users/suchanatratanarueangrong/miniforge3/lib/python3.10/site-packages (from transformers[torch]) (0.3.2)\n",
      "Requirement already satisfied: tqdm>=4.27 in /Users/suchanatratanarueangrong/miniforge3/lib/python3.10/site-packages (from transformers[torch]) (4.65.0)\n",
      "Requirement already satisfied: torch!=1.12.0,>=1.9 in /Users/suchanatratanarueangrong/miniforge3/lib/python3.10/site-packages (from transformers[torch]) (2.0.1)\n",
      "Requirement already satisfied: accelerate>=0.20.3 in /Users/suchanatratanarueangrong/miniforge3/lib/python3.10/site-packages (from transformers[torch]) (0.20.3)\n",
      "Requirement already satisfied: psutil in /Users/suchanatratanarueangrong/miniforge3/lib/python3.10/site-packages (from accelerate>=0.20.3->transformers[torch]) (5.9.5)\n",
      "Requirement already satisfied: fsspec in /Users/suchanatratanarueangrong/miniforge3/lib/python3.10/site-packages (from huggingface-hub<1.0,>=0.14.1->transformers[torch]) (2023.6.0)\n",
      "Requirement already satisfied: typing-extensions>=3.7.4.3 in /Users/suchanatratanarueangrong/miniforge3/lib/python3.10/site-packages (from huggingface-hub<1.0,>=0.14.1->transformers[torch]) (4.5.0)\n",
      "Requirement already satisfied: sympy in /Users/suchanatratanarueangrong/miniforge3/lib/python3.10/site-packages (from torch!=1.12.0,>=1.9->transformers[torch]) (1.12)\n",
      "Requirement already satisfied: networkx in /Users/suchanatratanarueangrong/miniforge3/lib/python3.10/site-packages (from torch!=1.12.0,>=1.9->transformers[torch]) (3.1)\n",
      "Requirement already satisfied: jinja2 in /Users/suchanatratanarueangrong/miniforge3/lib/python3.10/site-packages (from torch!=1.12.0,>=1.9->transformers[torch]) (3.1.2)\n",
      "Requirement already satisfied: charset-normalizer<4,>=2 in /Users/suchanatratanarueangrong/miniforge3/lib/python3.10/site-packages (from requests->transformers[torch]) (3.2.0)\n",
      "Requirement already satisfied: idna<4,>=2.5 in /Users/suchanatratanarueangrong/miniforge3/lib/python3.10/site-packages (from requests->transformers[torch]) (3.4)\n",
      "Requirement already satisfied: urllib3<3,>=1.21.1 in /Users/suchanatratanarueangrong/miniforge3/lib/python3.10/site-packages (from requests->transformers[torch]) (1.26.16)\n",
      "Requirement already satisfied: certifi>=2017.4.17 in /Users/suchanatratanarueangrong/miniforge3/lib/python3.10/site-packages (from requests->transformers[torch]) (2023.5.7)\n",
      "Requirement already satisfied: MarkupSafe>=2.0 in /Users/suchanatratanarueangrong/miniforge3/lib/python3.10/site-packages (from jinja2->torch!=1.12.0,>=1.9->transformers[torch]) (2.1.3)\n",
      "Requirement already satisfied: mpmath>=0.19 in /Users/suchanatratanarueangrong/miniforge3/lib/python3.10/site-packages (from sympy->torch!=1.12.0,>=1.9->transformers[torch]) (1.3.0)\n",
      "Requirement already satisfied: accelerate==0.20.3 in /Users/suchanatratanarueangrong/miniforge3/lib/python3.10/site-packages (0.20.3)\n",
      "Requirement already satisfied: numpy>=1.17 in /Users/suchanatratanarueangrong/miniforge3/lib/python3.10/site-packages (from accelerate==0.20.3) (1.24.3)\n",
      "Requirement already satisfied: packaging>=20.0 in /Users/suchanatratanarueangrong/miniforge3/lib/python3.10/site-packages (from accelerate==0.20.3) (23.1)\n",
      "Requirement already satisfied: psutil in /Users/suchanatratanarueangrong/miniforge3/lib/python3.10/site-packages (from accelerate==0.20.3) (5.9.5)\n",
      "Requirement already satisfied: pyyaml in /Users/suchanatratanarueangrong/miniforge3/lib/python3.10/site-packages (from accelerate==0.20.3) (6.0.1)\n",
      "Requirement already satisfied: torch>=1.6.0 in /Users/suchanatratanarueangrong/miniforge3/lib/python3.10/site-packages (from accelerate==0.20.3) (2.0.1)\n",
      "Requirement already satisfied: filelock in /Users/suchanatratanarueangrong/miniforge3/lib/python3.10/site-packages (from torch>=1.6.0->accelerate==0.20.3) (3.12.2)\n",
      "Requirement already satisfied: typing-extensions in /Users/suchanatratanarueangrong/miniforge3/lib/python3.10/site-packages (from torch>=1.6.0->accelerate==0.20.3) (4.5.0)\n",
      "Requirement already satisfied: sympy in /Users/suchanatratanarueangrong/miniforge3/lib/python3.10/site-packages (from torch>=1.6.0->accelerate==0.20.3) (1.12)\n",
      "Requirement already satisfied: networkx in /Users/suchanatratanarueangrong/miniforge3/lib/python3.10/site-packages (from torch>=1.6.0->accelerate==0.20.3) (3.1)\n",
      "Requirement already satisfied: jinja2 in /Users/suchanatratanarueangrong/miniforge3/lib/python3.10/site-packages (from torch>=1.6.0->accelerate==0.20.3) (3.1.2)\n",
      "Requirement already satisfied: MarkupSafe>=2.0 in /Users/suchanatratanarueangrong/miniforge3/lib/python3.10/site-packages (from jinja2->torch>=1.6.0->accelerate==0.20.3) (2.1.3)\n",
      "Requirement already satisfied: mpmath>=0.19 in /Users/suchanatratanarueangrong/miniforge3/lib/python3.10/site-packages (from sympy->torch>=1.6.0->accelerate==0.20.3) (1.3.0)\n"
     ]
    }
   ],
   "source": [
    "!pip install 'transformers[torch]'\n",
    "#!pip install transformers[torch]\n",
    "!pip install accelerate==0.20.3\n"
   ]
  },
  {
   "cell_type": "code",
   "execution_count": 3,
   "metadata": {},
   "outputs": [
    {
     "name": "stdout",
     "output_type": "stream",
     "text": [
      "Requirement already satisfied: accelerate in /Users/suchanatratanarueangrong/anaconda3/lib/python3.10/site-packages (0.21.0)\n",
      "Requirement already satisfied: numpy>=1.17 in /Users/suchanatratanarueangrong/anaconda3/lib/python3.10/site-packages (from accelerate) (1.25.0)\n",
      "Requirement already satisfied: packaging>=20.0 in /Users/suchanatratanarueangrong/anaconda3/lib/python3.10/site-packages (from accelerate) (23.0)\n",
      "Requirement already satisfied: psutil in /Users/suchanatratanarueangrong/anaconda3/lib/python3.10/site-packages (from accelerate) (5.9.0)\n",
      "Requirement already satisfied: pyyaml in /Users/suchanatratanarueangrong/anaconda3/lib/python3.10/site-packages (from accelerate) (6.0)\n",
      "Requirement already satisfied: torch>=1.10.0 in /Users/suchanatratanarueangrong/anaconda3/lib/python3.10/site-packages (from accelerate) (2.0.1)\n",
      "Requirement already satisfied: filelock in /Users/suchanatratanarueangrong/anaconda3/lib/python3.10/site-packages (from torch>=1.10.0->accelerate) (3.9.0)\n",
      "Requirement already satisfied: typing-extensions in /Users/suchanatratanarueangrong/anaconda3/lib/python3.10/site-packages (from torch>=1.10.0->accelerate) (4.6.3)\n",
      "Requirement already satisfied: sympy in /Users/suchanatratanarueangrong/anaconda3/lib/python3.10/site-packages (from torch>=1.10.0->accelerate) (1.11.1)\n",
      "Requirement already satisfied: networkx in /Users/suchanatratanarueangrong/anaconda3/lib/python3.10/site-packages (from torch>=1.10.0->accelerate) (2.8.4)\n",
      "Requirement already satisfied: jinja2 in /Users/suchanatratanarueangrong/anaconda3/lib/python3.10/site-packages (from torch>=1.10.0->accelerate) (3.1.2)\n",
      "Requirement already satisfied: MarkupSafe>=2.0 in /Users/suchanatratanarueangrong/anaconda3/lib/python3.10/site-packages (from jinja2->torch>=1.10.0->accelerate) (2.1.1)\n",
      "Requirement already satisfied: mpmath>=0.19 in /Users/suchanatratanarueangrong/anaconda3/lib/python3.10/site-packages/mpmath-1.2.1-py3.10.egg (from sympy->torch>=1.10.0->accelerate) (1.2.1)\n",
      "Note: you may need to restart the kernel to use updated packages.\n"
     ]
    }
   ],
   "source": [
    "pip install --upgrade accelerate"
   ]
  },
  {
   "cell_type": "code",
   "execution_count": 4,
   "metadata": {
    "id": "TPgV8ZkjzI_D"
   },
   "outputs": [],
   "source": [
    "# !pip install transformers[torch]"
   ]
  },
  {
   "cell_type": "code",
   "execution_count": 5,
   "metadata": {},
   "outputs": [
    {
     "name": "stdout",
     "output_type": "stream",
     "text": [
      "Requirement already satisfied: jupyter-docx-bundler in /Users/suchanatratanarueangrong/anaconda3/lib/python3.10/site-packages (0.3.5)\n",
      "Requirement already satisfied: lxml in /Users/suchanatratanarueangrong/anaconda3/lib/python3.10/site-packages (from jupyter-docx-bundler) (4.9.2)\n",
      "Requirement already satisfied: nbconvert>=7.0 in /Users/suchanatratanarueangrong/anaconda3/lib/python3.10/site-packages (from jupyter-docx-bundler) (7.7.3)\n",
      "Requirement already satisfied: notebook>=5.0 in /Users/suchanatratanarueangrong/anaconda3/lib/python3.10/site-packages (from jupyter-docx-bundler) (6.5.4)\n",
      "Requirement already satisfied: pandas in /Users/suchanatratanarueangrong/anaconda3/lib/python3.10/site-packages (from jupyter-docx-bundler) (1.5.3)\n",
      "Requirement already satisfied: pandocfilters in /Users/suchanatratanarueangrong/anaconda3/lib/python3.10/site-packages (from jupyter-docx-bundler) (1.5.0)\n",
      "Requirement already satisfied: pypandoc>=1.4 in /Users/suchanatratanarueangrong/anaconda3/lib/python3.10/site-packages (from jupyter-docx-bundler) (1.11)\n",
      "Requirement already satisfied: requests in /Users/suchanatratanarueangrong/anaconda3/lib/python3.10/site-packages (from jupyter-docx-bundler) (2.29.0)\n",
      "Requirement already satisfied: tabulate in /Users/suchanatratanarueangrong/anaconda3/lib/python3.10/site-packages (from jupyter-docx-bundler) (0.9.0)\n",
      "Requirement already satisfied: tornado in /Users/suchanatratanarueangrong/anaconda3/lib/python3.10/site-packages (from jupyter-docx-bundler) (6.2)\n",
      "Requirement already satisfied: beautifulsoup4 in /Users/suchanatratanarueangrong/anaconda3/lib/python3.10/site-packages (from nbconvert>=7.0->jupyter-docx-bundler) (4.12.2)\n",
      "Requirement already satisfied: bleach!=5.0.0 in /Users/suchanatratanarueangrong/anaconda3/lib/python3.10/site-packages (from nbconvert>=7.0->jupyter-docx-bundler) (4.1.0)\n",
      "Requirement already satisfied: defusedxml in /Users/suchanatratanarueangrong/anaconda3/lib/python3.10/site-packages (from nbconvert>=7.0->jupyter-docx-bundler) (0.7.1)\n",
      "Requirement already satisfied: jinja2>=3.0 in /Users/suchanatratanarueangrong/anaconda3/lib/python3.10/site-packages (from nbconvert>=7.0->jupyter-docx-bundler) (3.1.2)\n",
      "Requirement already satisfied: jupyter-core>=4.7 in /Users/suchanatratanarueangrong/anaconda3/lib/python3.10/site-packages (from nbconvert>=7.0->jupyter-docx-bundler) (5.3.0)\n",
      "Requirement already satisfied: jupyterlab-pygments in /Users/suchanatratanarueangrong/anaconda3/lib/python3.10/site-packages (from nbconvert>=7.0->jupyter-docx-bundler) (0.1.2)\n",
      "Requirement already satisfied: markupsafe>=2.0 in /Users/suchanatratanarueangrong/anaconda3/lib/python3.10/site-packages (from nbconvert>=7.0->jupyter-docx-bundler) (2.1.1)\n",
      "Requirement already satisfied: mistune<4,>=2.0.3 in /Users/suchanatratanarueangrong/anaconda3/lib/python3.10/site-packages (from nbconvert>=7.0->jupyter-docx-bundler) (3.0.1)\n",
      "Requirement already satisfied: nbclient>=0.5.0 in /Users/suchanatratanarueangrong/anaconda3/lib/python3.10/site-packages (from nbconvert>=7.0->jupyter-docx-bundler) (0.5.13)\n",
      "Requirement already satisfied: nbformat>=5.7 in /Users/suchanatratanarueangrong/anaconda3/lib/python3.10/site-packages (from nbconvert>=7.0->jupyter-docx-bundler) (5.7.0)\n",
      "Requirement already satisfied: packaging in /Users/suchanatratanarueangrong/anaconda3/lib/python3.10/site-packages (from nbconvert>=7.0->jupyter-docx-bundler) (23.0)\n",
      "Requirement already satisfied: pygments>=2.4.1 in /Users/suchanatratanarueangrong/anaconda3/lib/python3.10/site-packages (from nbconvert>=7.0->jupyter-docx-bundler) (2.15.1)\n",
      "Requirement already satisfied: tinycss2 in /Users/suchanatratanarueangrong/anaconda3/lib/python3.10/site-packages (from nbconvert>=7.0->jupyter-docx-bundler) (1.2.1)\n",
      "Requirement already satisfied: traitlets>=5.1 in /Users/suchanatratanarueangrong/anaconda3/lib/python3.10/site-packages (from nbconvert>=7.0->jupyter-docx-bundler) (5.7.1)\n",
      "Requirement already satisfied: pyzmq>=17 in /Users/suchanatratanarueangrong/anaconda3/lib/python3.10/site-packages (from notebook>=5.0->jupyter-docx-bundler) (23.2.0)\n",
      "Requirement already satisfied: argon2-cffi in /Users/suchanatratanarueangrong/anaconda3/lib/python3.10/site-packages (from notebook>=5.0->jupyter-docx-bundler) (21.3.0)\n",
      "Requirement already satisfied: jupyter-client>=5.3.4 in /Users/suchanatratanarueangrong/anaconda3/lib/python3.10/site-packages (from notebook>=5.0->jupyter-docx-bundler) (7.4.9)\n",
      "Requirement already satisfied: ipython-genutils in /Users/suchanatratanarueangrong/anaconda3/lib/python3.10/site-packages (from notebook>=5.0->jupyter-docx-bundler) (0.2.0)\n",
      "Requirement already satisfied: nest-asyncio>=1.5 in /Users/suchanatratanarueangrong/anaconda3/lib/python3.10/site-packages (from notebook>=5.0->jupyter-docx-bundler) (1.5.6)\n",
      "Requirement already satisfied: ipykernel in /Users/suchanatratanarueangrong/anaconda3/lib/python3.10/site-packages (from notebook>=5.0->jupyter-docx-bundler) (6.19.2)\n",
      "Requirement already satisfied: Send2Trash>=1.8.0 in /Users/suchanatratanarueangrong/anaconda3/lib/python3.10/site-packages (from notebook>=5.0->jupyter-docx-bundler) (1.8.0)\n",
      "Requirement already satisfied: terminado>=0.8.3 in /Users/suchanatratanarueangrong/anaconda3/lib/python3.10/site-packages (from notebook>=5.0->jupyter-docx-bundler) (0.17.1)\n",
      "Requirement already satisfied: prometheus-client in /Users/suchanatratanarueangrong/anaconda3/lib/python3.10/site-packages (from notebook>=5.0->jupyter-docx-bundler) (0.14.1)\n",
      "Requirement already satisfied: nbclassic>=0.4.7 in /Users/suchanatratanarueangrong/anaconda3/lib/python3.10/site-packages (from notebook>=5.0->jupyter-docx-bundler) (0.5.5)\n",
      "Requirement already satisfied: python-dateutil>=2.8.1 in /Users/suchanatratanarueangrong/anaconda3/lib/python3.10/site-packages (from pandas->jupyter-docx-bundler) (2.8.2)\n",
      "Requirement already satisfied: pytz>=2020.1 in /Users/suchanatratanarueangrong/anaconda3/lib/python3.10/site-packages (from pandas->jupyter-docx-bundler) (2022.7)\n",
      "Requirement already satisfied: numpy>=1.21.0 in /Users/suchanatratanarueangrong/anaconda3/lib/python3.10/site-packages (from pandas->jupyter-docx-bundler) (1.25.0)\n",
      "Requirement already satisfied: charset-normalizer<4,>=2 in /Users/suchanatratanarueangrong/anaconda3/lib/python3.10/site-packages (from requests->jupyter-docx-bundler) (2.0.4)\n",
      "Requirement already satisfied: idna<4,>=2.5 in /Users/suchanatratanarueangrong/anaconda3/lib/python3.10/site-packages (from requests->jupyter-docx-bundler) (3.4)\n",
      "Requirement already satisfied: urllib3<1.27,>=1.21.1 in /Users/suchanatratanarueangrong/anaconda3/lib/python3.10/site-packages (from requests->jupyter-docx-bundler) (1.26.16)\n",
      "Requirement already satisfied: certifi>=2017.4.17 in /Users/suchanatratanarueangrong/anaconda3/lib/python3.10/site-packages (from requests->jupyter-docx-bundler) (2023.7.22)\n",
      "Requirement already satisfied: six>=1.9.0 in /Users/suchanatratanarueangrong/anaconda3/lib/python3.10/site-packages (from bleach!=5.0.0->nbconvert>=7.0->jupyter-docx-bundler) (1.16.0)\n",
      "Requirement already satisfied: webencodings in /Users/suchanatratanarueangrong/anaconda3/lib/python3.10/site-packages (from bleach!=5.0.0->nbconvert>=7.0->jupyter-docx-bundler) (0.5.1)\n",
      "Requirement already satisfied: entrypoints in /Users/suchanatratanarueangrong/anaconda3/lib/python3.10/site-packages (from jupyter-client>=5.3.4->notebook>=5.0->jupyter-docx-bundler) (0.4)\n",
      "Requirement already satisfied: platformdirs>=2.5 in /Users/suchanatratanarueangrong/anaconda3/lib/python3.10/site-packages (from jupyter-core>=4.7->nbconvert>=7.0->jupyter-docx-bundler) (2.5.2)\n",
      "Requirement already satisfied: jupyter-server>=1.8 in /Users/suchanatratanarueangrong/anaconda3/lib/python3.10/site-packages (from nbclassic>=0.4.7->notebook>=5.0->jupyter-docx-bundler) (1.23.4)\n",
      "Requirement already satisfied: notebook-shim>=0.1.0 in /Users/suchanatratanarueangrong/anaconda3/lib/python3.10/site-packages (from nbclassic>=0.4.7->notebook>=5.0->jupyter-docx-bundler) (0.2.2)\n",
      "Requirement already satisfied: fastjsonschema in /Users/suchanatratanarueangrong/anaconda3/lib/python3.10/site-packages (from nbformat>=5.7->nbconvert>=7.0->jupyter-docx-bundler) (2.16.2)\n",
      "Requirement already satisfied: jsonschema>=2.6 in /Users/suchanatratanarueangrong/anaconda3/lib/python3.10/site-packages (from nbformat>=5.7->nbconvert>=7.0->jupyter-docx-bundler) (4.17.3)\n",
      "Requirement already satisfied: ptyprocess in /Users/suchanatratanarueangrong/anaconda3/lib/python3.10/site-packages (from terminado>=0.8.3->notebook>=5.0->jupyter-docx-bundler) (0.7.0)\n"
     ]
    },
    {
     "name": "stdout",
     "output_type": "stream",
     "text": [
      "Requirement already satisfied: argon2-cffi-bindings in /Users/suchanatratanarueangrong/anaconda3/lib/python3.10/site-packages (from argon2-cffi->notebook>=5.0->jupyter-docx-bundler) (21.2.0)\n",
      "Requirement already satisfied: soupsieve>1.2 in /Users/suchanatratanarueangrong/anaconda3/lib/python3.10/site-packages (from beautifulsoup4->nbconvert>=7.0->jupyter-docx-bundler) (2.4)\n",
      "Requirement already satisfied: appnope in /Users/suchanatratanarueangrong/anaconda3/lib/python3.10/site-packages (from ipykernel->notebook>=5.0->jupyter-docx-bundler) (0.1.2)\n",
      "Requirement already satisfied: comm>=0.1.1 in /Users/suchanatratanarueangrong/anaconda3/lib/python3.10/site-packages (from ipykernel->notebook>=5.0->jupyter-docx-bundler) (0.1.2)\n",
      "Requirement already satisfied: debugpy>=1.0 in /Users/suchanatratanarueangrong/anaconda3/lib/python3.10/site-packages (from ipykernel->notebook>=5.0->jupyter-docx-bundler) (1.5.1)\n",
      "Requirement already satisfied: ipython>=7.23.1 in /Users/suchanatratanarueangrong/anaconda3/lib/python3.10/site-packages (from ipykernel->notebook>=5.0->jupyter-docx-bundler) (8.12.0)\n",
      "Requirement already satisfied: matplotlib-inline>=0.1 in /Users/suchanatratanarueangrong/anaconda3/lib/python3.10/site-packages (from ipykernel->notebook>=5.0->jupyter-docx-bundler) (0.1.6)\n",
      "Requirement already satisfied: psutil in /Users/suchanatratanarueangrong/anaconda3/lib/python3.10/site-packages (from ipykernel->notebook>=5.0->jupyter-docx-bundler) (5.9.0)\n",
      "Requirement already satisfied: backcall in /Users/suchanatratanarueangrong/anaconda3/lib/python3.10/site-packages (from ipython>=7.23.1->ipykernel->notebook>=5.0->jupyter-docx-bundler) (0.2.0)\n",
      "Requirement already satisfied: decorator in /Users/suchanatratanarueangrong/anaconda3/lib/python3.10/site-packages (from ipython>=7.23.1->ipykernel->notebook>=5.0->jupyter-docx-bundler) (5.1.1)\n",
      "Requirement already satisfied: jedi>=0.16 in /Users/suchanatratanarueangrong/anaconda3/lib/python3.10/site-packages (from ipython>=7.23.1->ipykernel->notebook>=5.0->jupyter-docx-bundler) (0.18.1)\n",
      "Requirement already satisfied: pickleshare in /Users/suchanatratanarueangrong/anaconda3/lib/python3.10/site-packages (from ipython>=7.23.1->ipykernel->notebook>=5.0->jupyter-docx-bundler) (0.7.5)\n",
      "Requirement already satisfied: prompt-toolkit!=3.0.37,<3.1.0,>=3.0.30 in /Users/suchanatratanarueangrong/anaconda3/lib/python3.10/site-packages (from ipython>=7.23.1->ipykernel->notebook>=5.0->jupyter-docx-bundler) (3.0.36)\n",
      "Requirement already satisfied: stack-data in /Users/suchanatratanarueangrong/anaconda3/lib/python3.10/site-packages (from ipython>=7.23.1->ipykernel->notebook>=5.0->jupyter-docx-bundler) (0.2.0)\n",
      "Requirement already satisfied: pexpect>4.3 in /Users/suchanatratanarueangrong/anaconda3/lib/python3.10/site-packages (from ipython>=7.23.1->ipykernel->notebook>=5.0->jupyter-docx-bundler) (4.8.0)\n",
      "Requirement already satisfied: attrs>=17.4.0 in /Users/suchanatratanarueangrong/anaconda3/lib/python3.10/site-packages (from jsonschema>=2.6->nbformat>=5.7->nbconvert>=7.0->jupyter-docx-bundler) (22.1.0)\n",
      "Requirement already satisfied: pyrsistent!=0.17.0,!=0.17.1,!=0.17.2,>=0.14.0 in /Users/suchanatratanarueangrong/anaconda3/lib/python3.10/site-packages (from jsonschema>=2.6->nbformat>=5.7->nbconvert>=7.0->jupyter-docx-bundler) (0.18.0)\n",
      "Requirement already satisfied: anyio<4,>=3.1.0 in /Users/suchanatratanarueangrong/anaconda3/lib/python3.10/site-packages (from jupyter-server>=1.8->nbclassic>=0.4.7->notebook>=5.0->jupyter-docx-bundler) (3.5.0)\n",
      "Requirement already satisfied: websocket-client in /Users/suchanatratanarueangrong/anaconda3/lib/python3.10/site-packages (from jupyter-server>=1.8->nbclassic>=0.4.7->notebook>=5.0->jupyter-docx-bundler) (0.58.0)\n",
      "Requirement already satisfied: cffi>=1.0.1 in /Users/suchanatratanarueangrong/anaconda3/lib/python3.10/site-packages (from argon2-cffi-bindings->argon2-cffi->notebook>=5.0->jupyter-docx-bundler) (1.15.1)\n",
      "Requirement already satisfied: sniffio>=1.1 in /Users/suchanatratanarueangrong/anaconda3/lib/python3.10/site-packages (from anyio<4,>=3.1.0->jupyter-server>=1.8->nbclassic>=0.4.7->notebook>=5.0->jupyter-docx-bundler) (1.2.0)\n",
      "Requirement already satisfied: pycparser in /Users/suchanatratanarueangrong/anaconda3/lib/python3.10/site-packages (from cffi>=1.0.1->argon2-cffi-bindings->argon2-cffi->notebook>=5.0->jupyter-docx-bundler) (2.21)\n",
      "Requirement already satisfied: parso<0.9.0,>=0.8.0 in /Users/suchanatratanarueangrong/anaconda3/lib/python3.10/site-packages (from jedi>=0.16->ipython>=7.23.1->ipykernel->notebook>=5.0->jupyter-docx-bundler) (0.8.3)\n",
      "Requirement already satisfied: wcwidth in /Users/suchanatratanarueangrong/anaconda3/lib/python3.10/site-packages (from prompt-toolkit!=3.0.37,<3.1.0,>=3.0.30->ipython>=7.23.1->ipykernel->notebook>=5.0->jupyter-docx-bundler) (0.2.5)\n",
      "Requirement already satisfied: executing in /Users/suchanatratanarueangrong/anaconda3/lib/python3.10/site-packages (from stack-data->ipython>=7.23.1->ipykernel->notebook>=5.0->jupyter-docx-bundler) (0.8.3)\n",
      "Requirement already satisfied: asttokens in /Users/suchanatratanarueangrong/anaconda3/lib/python3.10/site-packages (from stack-data->ipython>=7.23.1->ipykernel->notebook>=5.0->jupyter-docx-bundler) (2.0.5)\n",
      "Requirement already satisfied: pure-eval in /Users/suchanatratanarueangrong/anaconda3/lib/python3.10/site-packages (from stack-data->ipython>=7.23.1->ipykernel->notebook>=5.0->jupyter-docx-bundler) (0.2.2)\n",
      "Note: you may need to restart the kernel to use updated packages.\n"
     ]
    }
   ],
   "source": [
    "pip install jupyter-docx-bundler"
   ]
  },
  {
   "cell_type": "code",
   "execution_count": 6,
   "metadata": {
    "colab": {
     "base_uri": "https://localhost:8080/"
    },
    "id": "l9PhAQicEyQd",
    "outputId": "46c0d1f5-614a-48e9-a423-f2f593381c9a"
   },
   "outputs": [
    {
     "name": "stdout",
     "output_type": "stream",
     "text": [
      "Requirement already satisfied: PyPDF2 in /Users/suchanatratanarueangrong/miniforge3/lib/python3.10/site-packages (3.0.1)\n",
      "Requirement already satisfied: python-docx in /Users/suchanatratanarueangrong/miniforge3/lib/python3.10/site-packages (0.8.11)\n",
      "Requirement already satisfied: lxml>=2.3.2 in /Users/suchanatratanarueangrong/miniforge3/lib/python3.10/site-packages (from python-docx) (4.9.3)\n"
     ]
    }
   ],
   "source": [
    "!pip install -U PyPDF2\n",
    "!pip install python-docx"
   ]
  },
  {
   "cell_type": "code",
   "execution_count": 7,
   "metadata": {
    "id": "ItYpaZD9EH7J"
   },
   "outputs": [],
   "source": [
    "import pandas as pd\n",
    "import numpy as np\n",
    "import re\n",
    "from PyPDF2 import PdfReader\n",
    "import os\n",
    "#import docx"
   ]
  },
  {
   "cell_type": "code",
   "execution_count": 8,
   "metadata": {
    "id": "Ly_QfYPDHlie"
   },
   "outputs": [],
   "source": [
    "# Functions to read different file types\n",
    "def read_pdf(file_path):\n",
    "    with open(file_path, \"rb\") as file:\n",
    "        pdf_reader = PdfReader(file)\n",
    "        text = \"\"\n",
    "        for page_num in range(len(pdf_reader.pages)):\n",
    "            text += pdf_reader.pages[page_num].extract_text()\n",
    "    return text\n",
    "\n",
    "def read_word(file_path):\n",
    "    doc = docx.Document(file_path)\n",
    "    text = \"\"\n",
    "    for paragraph in doc.paragraphs:\n",
    "        text += paragraph.text + \"\\n\"\n",
    "    return text\n",
    "\n",
    "def read_txt(file_path):\n",
    "    with open(file_path, \"r\") as file:\n",
    "        text = file.read()\n",
    "    return text\n",
    "\n",
    "def read_documents_from_directory(directory):\n",
    "    combined_text = \"\"\n",
    "    for filename in os.listdir(directory):\n",
    "        file_path = os.path.join(directory, filename)\n",
    "        if filename.endswith(\".pdf\"):\n",
    "            combined_text += read_pdf(file_path)\n",
    "        elif filename.endswith(\".docx\"):\n",
    "            combined_text += read_word(file_path)\n",
    "        elif filename.endswith(\".txt\"):\n",
    "            combined_text += read_txt(file_path)\n",
    "    return combined_text\n"
   ]
  },
  {
   "cell_type": "code",
   "execution_count": 9,
   "metadata": {
    "id": "oobynnecHx87"
   },
   "outputs": [],
   "source": [
    "# Read documents from the directory\n",
    "#train_directory = '/content/drive/MyDrive/ColabNotebooks/data/chatbot_docs/training_data/full_text'\n",
    "# train_directory = '/content/drive/MyDrive/ColabNotebooks/data/chatbot_docs/training_data/q_and_a'\n",
    "train_directory = '/Users/suchanatratanarueangrong/Machine learning/Gpt2/train'\n",
    "text_data = read_documents_from_directory(train_directory)\n",
    "text_data = re.sub(r'\\n+', '\\n', text_data).strip()  # Remove excess newline characters\n"
   ]
  },
  {
   "cell_type": "code",
   "execution_count": 10,
   "metadata": {
    "id": "YUR9VpCuE5GN"
   },
   "outputs": [],
   "source": [
    "#text_data = read_pdf('/content/drive/MyDrive/ColabNotebooks/data/chatbot_docs/Cell_Biology.pdf')\n",
    "#text_data = re.sub(r'\\n+', '\\n', text_data).strip()  # Remove excess newline characters"
   ]
  },
  {
   "cell_type": "code",
   "execution_count": 11,
   "metadata": {
    "id": "-ZaBPMO-GZQP"
   },
   "outputs": [],
   "source": [
    "# Save the training and validation data as text files\n",
    "#with open(\"/content/drive/MyDrive/ColabNotebooks/data/chatbot_docs/combined_text/full_text/train.txt\", \"w\") as f:\n",
    " #   f.write(text_data)s"
   ]
  },
  {
   "cell_type": "code",
   "execution_count": 12,
   "metadata": {
    "id": "8RCPr_L0uJdo"
   },
   "outputs": [],
   "source": [
    "with open(\"/Users/suchanatratanarueangrong/Machine learning/Gpt2/train/example_1.txt\", \"w\") as f:\n",
    "    f.write(text_data)"
   ]
  },
  {
   "cell_type": "code",
   "execution_count": 13,
   "metadata": {
    "id": "9MFaNgaDEVKP"
   },
   "outputs": [
    {
     "name": "stderr",
     "output_type": "stream",
     "text": [
      "/Users/suchanatratanarueangrong/anaconda3/lib/python3.10/site-packages/tqdm/auto.py:21: TqdmWarning: IProgress not found. Please update jupyter and ipywidgets. See https://ipywidgets.readthedocs.io/en/stable/user_install.html\n",
      "  from .autonotebook import tqdm as notebook_tqdm\n"
     ]
    }
   ],
   "source": [
    "from transformers import TextDataset, DataCollatorForLanguageModeling\n",
    "from transformers import GPT2Tokenizer, GPT2LMHeadModel\n",
    "from transformers import Trainer, TrainingArguments"
   ]
  },
  {
   "cell_type": "code",
   "execution_count": 14,
   "metadata": {
    "id": "Wk_14dI9EVdD"
   },
   "outputs": [],
   "source": [
    "def load_dataset(file_path, tokenizer, block_size = 128):\n",
    "    dataset = TextDataset(\n",
    "        tokenizer = tokenizer,\n",
    "        file_path = file_path,\n",
    "        block_size = block_size,\n",
    "    )\n",
    "    return dataset"
   ]
  },
  {
   "cell_type": "code",
   "execution_count": 15,
   "metadata": {
    "id": "QJcoT-aNFcKp"
   },
   "outputs": [],
   "source": [
    "def load_data_collator(tokenizer, mlm = False):\n",
    "    data_collator = DataCollatorForLanguageModeling(\n",
    "        tokenizer=tokenizer,\n",
    "        mlm=mlm,\n",
    "    )\n",
    "    return data_collator"
   ]
  },
  {
   "cell_type": "code",
   "execution_count": 16,
   "metadata": {
    "id": "Ub3THjJ_FdSw"
   },
   "outputs": [],
   "source": [
    "def train(train_file_path,model_name,\n",
    "          output_dir,\n",
    "          overwrite_output_dir,\n",
    "          per_device_train_batch_size,\n",
    "          num_train_epochs,\n",
    "          save_steps):\n",
    "  tokenizer = GPT2Tokenizer.from_pretrained(model_name)\n",
    "  train_dataset = load_dataset(train_file_path, tokenizer)\n",
    "  data_collator = load_data_collator(tokenizer)\n",
    "\n",
    "  tokenizer.save_pretrained(output_dir)\n",
    "\n",
    "  model = GPT2LMHeadModel.from_pretrained(model_name)\n",
    "\n",
    "  model.save_pretrained(output_dir)\n",
    "\n",
    "  training_args = TrainingArguments(\n",
    "          output_dir=output_dir,\n",
    "          overwrite_output_dir=overwrite_output_dir,\n",
    "          per_device_train_batch_size=per_device_train_batch_size,\n",
    "          num_train_epochs=num_train_epochs,\n",
    "      )\n",
    "\n",
    "  trainer = Trainer(\n",
    "          model=model,\n",
    "          args=training_args,\n",
    "          data_collator=data_collator,\n",
    "          train_dataset=train_dataset,\n",
    "  )\n",
    "\n",
    "  trainer.train()\n",
    "  trainer.save_model()"
   ]
  },
  {
   "cell_type": "code",
   "execution_count": 17,
   "metadata": {
    "id": "9mXiWKHbFr2f"
   },
   "outputs": [],
   "source": [
    "\n",
    "#train_file_path = \"/content/drive/MyDrive/ColabNotebooks/data/chatbot_docs/combined_text/full_text/train.txt\"\n",
    "# train_file_path = \"/content/custom_full_text/merges.txt\"\n",
    "train_file_path = \"/Users/suchanatratanarueangrong/Machine learning/Gpt2/train/example_1.txt\"\n",
    "model_name = 'gpt2'\n",
    "output_dir = '/Users/suchanatratanarueangrong/Machine learning/Gpt2/custom_full_text'\n",
    "# output_dir = '/content/Full_text'\n",
    "overwrite_output_dir = False\n",
    "per_device_train_batch_size = 16\n",
    "num_train_epochs = 500.0\n",
    "save_steps = 50000"
   ]
  },
  {
   "cell_type": "code",
   "execution_count": 19,
   "metadata": {
    "id": "lelq_sN4Gy5M"
   },
   "outputs": [],
   "source": [
    "from transformers import PreTrainedTokenizerFast, GPT2LMHeadModel, GPT2TokenizerFast, GPT2Tokenizer"
   ]
  },
  {
   "cell_type": "code",
   "execution_count": 21,
   "metadata": {
    "colab": {
     "base_uri": "https://localhost:8080/",
     "height": 75
    },
    "id": "WMdaTo7KF9uo",
    "outputId": "82b6298f-3a1b-42d4-a908-3c19707bf418"
   },
   "outputs": [
    {
     "name": "stderr",
     "output_type": "stream",
     "text": [
      "/Users/suchanatratanarueangrong/anaconda3/lib/python3.10/site-packages/transformers/data/datasets/language_modeling.py:53: FutureWarning: This dataset will be removed from the library soon, preprocessing should be handled with the 🤗 Datasets library. You can have a look at this example script for pointers: https://github.com/huggingface/transformers/blob/main/examples/pytorch/language-modeling/run_mlm.py\n",
      "  warnings.warn(\n",
      "/Users/suchanatratanarueangrong/anaconda3/lib/python3.10/site-packages/transformers/optimization.py:407: FutureWarning: This implementation of AdamW is deprecated and will be removed in a future version. Use the PyTorch implementation torch.optim.AdamW instead, or set `no_deprecation_warning=True` to disable this warning\n",
      "  warnings.warn(\n"
     ]
    },
    {
     "data": {
      "text/html": [
       "\n",
       "    <div>\n",
       "      \n",
       "      <progress value='500' max='500' style='width:300px; height:20px; vertical-align: middle;'></progress>\n",
       "      [500/500 09:37, Epoch 500/500]\n",
       "    </div>\n",
       "    <table border=\"1\" class=\"dataframe\">\n",
       "  <thead>\n",
       " <tr style=\"text-align: left;\">\n",
       "      <th>Step</th>\n",
       "      <th>Training Loss</th>\n",
       "    </tr>\n",
       "  </thead>\n",
       "  <tbody>\n",
       "    <tr>\n",
       "      <td>500</td>\n",
       "      <td>0.098300</td>\n",
       "    </tr>\n",
       "  </tbody>\n",
       "</table><p>"
      ],
      "text/plain": [
       "<IPython.core.display.HTML object>"
      ]
     },
     "metadata": {},
     "output_type": "display_data"
    }
   ],
   "source": [
    "# Train\n",
    "train(\n",
    "    train_file_path=train_file_path,\n",
    "    model_name=model_name,\n",
    "    output_dir=output_dir,\n",
    "    overwrite_output_dir=overwrite_output_dir,\n",
    "    per_device_train_batch_size=per_device_train_batch_size,\n",
    "    num_train_epochs=num_train_epochs,\n",
    "    save_steps=save_steps\n",
    ")"
   ]
  },
  {
   "cell_type": "markdown",
   "metadata": {
    "id": "xwGS1IMlGBMB"
   },
   "source": [
    "Inference"
   ]
  },
  {
   "cell_type": "code",
   "execution_count": 22,
   "metadata": {
    "id": "wOvrNQRAG2IP"
   },
   "outputs": [],
   "source": [
    "def load_model(model_path):\n",
    "    model = GPT2LMHeadModel.from_pretrained(model_path)\n",
    "    return model\n",
    "\n",
    "\n",
    "def load_tokenizer(tokenizer_path):\n",
    "    tokenizer = GPT2Tokenizer.from_pretrained(tokenizer_path)\n",
    "    return tokenizer\n",
    "\n",
    "def generate_text(model_path, sequence, max_length):\n",
    "\n",
    "    model = load_model(model_path)\n",
    "    tokenizer = load_tokenizer(model_path)\n",
    "    ids = tokenizer.encode(f'{sequence}', return_tensors='pt')\n",
    "    final_outputs = model.generate(\n",
    "        ids,\n",
    "        do_sample=True,\n",
    "        max_length=max_length,\n",
    "        pad_token_id=model.config.eos_token_id,\n",
    "        top_k=50,\n",
    "        top_p=0.95,\n",
    "    )\n",
    "    print(tokenizer.decode(final_outputs[0], skip_special_tokens=True))"
   ]
  },
  {
   "cell_type": "code",
   "execution_count": 33,
   "metadata": {
    "colab": {
     "base_uri": "https://localhost:8080/"
    },
    "id": "uSAOQPk8vOTE",
    "outputId": "2172a388-b00b-4cb3-fe17-6da444515ab6"
   },
   "outputs": [
    {
     "name": "stdout",
     "output_type": "stream",
     "text": [
      "Who create?\n",
      "[A] Each image associated with an Optimist NFT is dedicated to the public domain under the Creative Commons Zero (CC0) license. You can learn more about the Creative Commons Zero (CC0) license at https://creativecommons.org/licenses/by/2.0/wiki/File:\n"
     ]
    }
   ],
   "source": [
    "# model2_path = \"/content/drive/MyDrive/ColabNotebooks/models/chat_models/custom_q_and_a\"\n",
    "model2_path = \"/Users/suchanatratanarueangrong/Machine learning/Gpt2/custom_full_text\"\n",
    "sequence2 = \"Who create?\"\n",
    "max_len = 70\n",
    "generate_text(model2_path, sequence2, max_len)"
   ]
  },
  {
   "cell_type": "code",
   "execution_count": null,
   "metadata": {},
   "outputs": [],
   "source": []
  }
 ],
 "metadata": {
  "colab": {
   "provenance": []
  },
  "kernelspec": {
   "display_name": "Python 3 (ipykernel)",
   "language": "python",
   "name": "python3"
  },
  "language_info": {
   "codemirror_mode": {
    "name": "ipython",
    "version": 3
   },
   "file_extension": ".py",
   "mimetype": "text/x-python",
   "name": "python",
   "nbconvert_exporter": "python",
   "pygments_lexer": "ipython3",
   "version": "3.10.9"
  }
 },
 "nbformat": 4,
 "nbformat_minor": 1
}
