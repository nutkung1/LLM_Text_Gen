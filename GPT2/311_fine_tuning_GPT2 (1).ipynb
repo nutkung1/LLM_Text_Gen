{
 "cells": [
  {
   "cell_type": "markdown",
   "metadata": {
    "id": "JfmZ8TnZw3IT"
   },
   "source": [
    "https://youtu.be/nsdCRVuprDY"
   ]
  },
  {
   "cell_type": "code",
   "execution_count": 1,
   "metadata": {
    "colab": {
     "base_uri": "https://localhost:8080/"
    },
    "id": "xwk6OoI2Ep7Z",
    "outputId": "f8b56a05-ce31-4f55-fa0e-47d7465a56d7"
   },
   "outputs": [
    {
     "name": "stdout",
     "output_type": "stream",
     "text": [
      "Requirement already satisfied: transformers in /Users/suchanatratanarueangrong/miniforge3/lib/python3.10/site-packages (4.31.0)\n",
      "Requirement already satisfied: filelock in /Users/suchanatratanarueangrong/miniforge3/lib/python3.10/site-packages (from transformers) (3.12.2)\n",
      "Requirement already satisfied: huggingface-hub<1.0,>=0.14.1 in /Users/suchanatratanarueangrong/miniforge3/lib/python3.10/site-packages (from transformers) (0.16.4)\n",
      "Requirement already satisfied: numpy>=1.17 in /Users/suchanatratanarueangrong/miniforge3/lib/python3.10/site-packages (from transformers) (1.24.3)\n",
      "Requirement already satisfied: packaging>=20.0 in /Users/suchanatratanarueangrong/miniforge3/lib/python3.10/site-packages (from transformers) (23.1)\n",
      "Requirement already satisfied: pyyaml>=5.1 in /Users/suchanatratanarueangrong/miniforge3/lib/python3.10/site-packages (from transformers) (6.0.1)\n",
      "Requirement already satisfied: regex!=2019.12.17 in /Users/suchanatratanarueangrong/miniforge3/lib/python3.10/site-packages (from transformers) (2023.8.8)\n",
      "Requirement already satisfied: requests in /Users/suchanatratanarueangrong/miniforge3/lib/python3.10/site-packages (from transformers) (2.31.0)\n",
      "Requirement already satisfied: tokenizers!=0.11.3,<0.14,>=0.11.1 in /Users/suchanatratanarueangrong/miniforge3/lib/python3.10/site-packages (from transformers) (0.13.3)\n",
      "Requirement already satisfied: safetensors>=0.3.1 in /Users/suchanatratanarueangrong/miniforge3/lib/python3.10/site-packages (from transformers) (0.3.2)\n",
      "Requirement already satisfied: tqdm>=4.27 in /Users/suchanatratanarueangrong/miniforge3/lib/python3.10/site-packages (from transformers) (4.65.0)\n",
      "Requirement already satisfied: fsspec in /Users/suchanatratanarueangrong/miniforge3/lib/python3.10/site-packages (from huggingface-hub<1.0,>=0.14.1->transformers) (2023.6.0)\n",
      "Requirement already satisfied: typing-extensions>=3.7.4.3 in /Users/suchanatratanarueangrong/miniforge3/lib/python3.10/site-packages (from huggingface-hub<1.0,>=0.14.1->transformers) (4.5.0)\n",
      "Requirement already satisfied: charset-normalizer<4,>=2 in /Users/suchanatratanarueangrong/miniforge3/lib/python3.10/site-packages (from requests->transformers) (3.2.0)\n",
      "Requirement already satisfied: idna<4,>=2.5 in /Users/suchanatratanarueangrong/miniforge3/lib/python3.10/site-packages (from requests->transformers) (3.4)\n",
      "Requirement already satisfied: urllib3<3,>=1.21.1 in /Users/suchanatratanarueangrong/miniforge3/lib/python3.10/site-packages (from requests->transformers) (1.26.16)\n",
      "Requirement already satisfied: certifi>=2017.4.17 in /Users/suchanatratanarueangrong/miniforge3/lib/python3.10/site-packages (from requests->transformers) (2023.5.7)\n"
     ]
    }
   ],
   "source": [
    "!pip install transformers"
   ]
  },
  {
   "cell_type": "code",
   "execution_count": 2,
   "metadata": {
    "colab": {
     "base_uri": "https://localhost:8080/"
    },
    "id": "2oeIkWw-9Wie",
    "outputId": "0af99735-88d5-4a58-acd5-95b2e28ed60d"
   },
   "outputs": [
    {
     "name": "stdout",
     "output_type": "stream",
     "text": [
      "Requirement already satisfied: transformers[torch] in /Users/suchanatratanarueangrong/miniforge3/lib/python3.10/site-packages (4.31.0)\n",
      "Requirement already satisfied: filelock in /Users/suchanatratanarueangrong/miniforge3/lib/python3.10/site-packages (from transformers[torch]) (3.12.2)\n",
      "Requirement already satisfied: huggingface-hub<1.0,>=0.14.1 in /Users/suchanatratanarueangrong/miniforge3/lib/python3.10/site-packages (from transformers[torch]) (0.16.4)\n",
      "Requirement already satisfied: numpy>=1.17 in /Users/suchanatratanarueangrong/miniforge3/lib/python3.10/site-packages (from transformers[torch]) (1.24.3)\n",
      "Requirement already satisfied: packaging>=20.0 in /Users/suchanatratanarueangrong/miniforge3/lib/python3.10/site-packages (from transformers[torch]) (23.1)\n",
      "Requirement already satisfied: pyyaml>=5.1 in /Users/suchanatratanarueangrong/miniforge3/lib/python3.10/site-packages (from transformers[torch]) (6.0.1)\n",
      "Requirement already satisfied: regex!=2019.12.17 in /Users/suchanatratanarueangrong/miniforge3/lib/python3.10/site-packages (from transformers[torch]) (2023.8.8)\n",
      "Requirement already satisfied: requests in /Users/suchanatratanarueangrong/miniforge3/lib/python3.10/site-packages (from transformers[torch]) (2.31.0)\n",
      "Requirement already satisfied: tokenizers!=0.11.3,<0.14,>=0.11.1 in /Users/suchanatratanarueangrong/miniforge3/lib/python3.10/site-packages (from transformers[torch]) (0.13.3)\n",
      "Requirement already satisfied: safetensors>=0.3.1 in /Users/suchanatratanarueangrong/miniforge3/lib/python3.10/site-packages (from transformers[torch]) (0.3.2)\n",
      "Requirement already satisfied: tqdm>=4.27 in /Users/suchanatratanarueangrong/miniforge3/lib/python3.10/site-packages (from transformers[torch]) (4.65.0)\n",
      "Requirement already satisfied: torch!=1.12.0,>=1.9 in /Users/suchanatratanarueangrong/miniforge3/lib/python3.10/site-packages (from transformers[torch]) (2.0.1)\n",
      "Requirement already satisfied: accelerate>=0.20.3 in /Users/suchanatratanarueangrong/miniforge3/lib/python3.10/site-packages (from transformers[torch]) (0.20.3)\n",
      "Requirement already satisfied: psutil in /Users/suchanatratanarueangrong/miniforge3/lib/python3.10/site-packages (from accelerate>=0.20.3->transformers[torch]) (5.9.5)\n",
      "Requirement already satisfied: fsspec in /Users/suchanatratanarueangrong/miniforge3/lib/python3.10/site-packages (from huggingface-hub<1.0,>=0.14.1->transformers[torch]) (2023.6.0)\n",
      "Requirement already satisfied: typing-extensions>=3.7.4.3 in /Users/suchanatratanarueangrong/miniforge3/lib/python3.10/site-packages (from huggingface-hub<1.0,>=0.14.1->transformers[torch]) (4.5.0)\n",
      "Requirement already satisfied: sympy in /Users/suchanatratanarueangrong/miniforge3/lib/python3.10/site-packages (from torch!=1.12.0,>=1.9->transformers[torch]) (1.12)\n",
      "Requirement already satisfied: networkx in /Users/suchanatratanarueangrong/miniforge3/lib/python3.10/site-packages (from torch!=1.12.0,>=1.9->transformers[torch]) (3.1)\n",
      "Requirement already satisfied: jinja2 in /Users/suchanatratanarueangrong/miniforge3/lib/python3.10/site-packages (from torch!=1.12.0,>=1.9->transformers[torch]) (3.1.2)\n",
      "Requirement already satisfied: charset-normalizer<4,>=2 in /Users/suchanatratanarueangrong/miniforge3/lib/python3.10/site-packages (from requests->transformers[torch]) (3.2.0)\n",
      "Requirement already satisfied: idna<4,>=2.5 in /Users/suchanatratanarueangrong/miniforge3/lib/python3.10/site-packages (from requests->transformers[torch]) (3.4)\n",
      "Requirement already satisfied: urllib3<3,>=1.21.1 in /Users/suchanatratanarueangrong/miniforge3/lib/python3.10/site-packages (from requests->transformers[torch]) (1.26.16)\n",
      "Requirement already satisfied: certifi>=2017.4.17 in /Users/suchanatratanarueangrong/miniforge3/lib/python3.10/site-packages (from requests->transformers[torch]) (2023.5.7)\n",
      "Requirement already satisfied: MarkupSafe>=2.0 in /Users/suchanatratanarueangrong/miniforge3/lib/python3.10/site-packages (from jinja2->torch!=1.12.0,>=1.9->transformers[torch]) (2.1.3)\n",
      "Requirement already satisfied: mpmath>=0.19 in /Users/suchanatratanarueangrong/miniforge3/lib/python3.10/site-packages (from sympy->torch!=1.12.0,>=1.9->transformers[torch]) (1.3.0)\n",
      "Requirement already satisfied: accelerate==0.20.3 in /Users/suchanatratanarueangrong/miniforge3/lib/python3.10/site-packages (0.20.3)\n",
      "Requirement already satisfied: numpy>=1.17 in /Users/suchanatratanarueangrong/miniforge3/lib/python3.10/site-packages (from accelerate==0.20.3) (1.24.3)\n",
      "Requirement already satisfied: packaging>=20.0 in /Users/suchanatratanarueangrong/miniforge3/lib/python3.10/site-packages (from accelerate==0.20.3) (23.1)\n",
      "Requirement already satisfied: psutil in /Users/suchanatratanarueangrong/miniforge3/lib/python3.10/site-packages (from accelerate==0.20.3) (5.9.5)\n",
      "Requirement already satisfied: pyyaml in /Users/suchanatratanarueangrong/miniforge3/lib/python3.10/site-packages (from accelerate==0.20.3) (6.0.1)\n",
      "Requirement already satisfied: torch>=1.6.0 in /Users/suchanatratanarueangrong/miniforge3/lib/python3.10/site-packages (from accelerate==0.20.3) (2.0.1)\n",
      "Requirement already satisfied: filelock in /Users/suchanatratanarueangrong/miniforge3/lib/python3.10/site-packages (from torch>=1.6.0->accelerate==0.20.3) (3.12.2)\n",
      "Requirement already satisfied: typing-extensions in /Users/suchanatratanarueangrong/miniforge3/lib/python3.10/site-packages (from torch>=1.6.0->accelerate==0.20.3) (4.5.0)\n",
      "Requirement already satisfied: sympy in /Users/suchanatratanarueangrong/miniforge3/lib/python3.10/site-packages (from torch>=1.6.0->accelerate==0.20.3) (1.12)\n",
      "Requirement already satisfied: networkx in /Users/suchanatratanarueangrong/miniforge3/lib/python3.10/site-packages (from torch>=1.6.0->accelerate==0.20.3) (3.1)\n",
      "Requirement already satisfied: jinja2 in /Users/suchanatratanarueangrong/miniforge3/lib/python3.10/site-packages (from torch>=1.6.0->accelerate==0.20.3) (3.1.2)\n",
      "Requirement already satisfied: MarkupSafe>=2.0 in /Users/suchanatratanarueangrong/miniforge3/lib/python3.10/site-packages (from jinja2->torch>=1.6.0->accelerate==0.20.3) (2.1.3)\n",
      "Requirement already satisfied: mpmath>=0.19 in /Users/suchanatratanarueangrong/miniforge3/lib/python3.10/site-packages (from sympy->torch>=1.6.0->accelerate==0.20.3) (1.3.0)\n"
     ]
    }
   ],
   "source": [
    "!pip install 'transformers[torch]'\n",
    "#!pip install transformers[torch]\n",
    "!pip install accelerate==0.20.3\n"
   ]
  },
  {
   "cell_type": "code",
   "execution_count": 3,
   "metadata": {},
   "outputs": [
    {
     "name": "stdout",
     "output_type": "stream",
     "text": [
      "Requirement already satisfied: accelerate in /Users/suchanatratanarueangrong/anaconda3/lib/python3.10/site-packages (0.21.0)\n",
      "Requirement already satisfied: numpy>=1.17 in /Users/suchanatratanarueangrong/anaconda3/lib/python3.10/site-packages (from accelerate) (1.25.0)\n",
      "Requirement already satisfied: packaging>=20.0 in /Users/suchanatratanarueangrong/anaconda3/lib/python3.10/site-packages (from accelerate) (23.0)\n",
      "Requirement already satisfied: psutil in /Users/suchanatratanarueangrong/anaconda3/lib/python3.10/site-packages (from accelerate) (5.9.0)\n",
      "Requirement already satisfied: pyyaml in /Users/suchanatratanarueangrong/anaconda3/lib/python3.10/site-packages (from accelerate) (6.0)\n",
      "Requirement already satisfied: torch>=1.10.0 in /Users/suchanatratanarueangrong/anaconda3/lib/python3.10/site-packages (from accelerate) (2.0.1)\n",
      "Requirement already satisfied: filelock in /Users/suchanatratanarueangrong/anaconda3/lib/python3.10/site-packages (from torch>=1.10.0->accelerate) (3.9.0)\n",
      "Requirement already satisfied: typing-extensions in /Users/suchanatratanarueangrong/anaconda3/lib/python3.10/site-packages (from torch>=1.10.0->accelerate) (4.6.3)\n",
      "Requirement already satisfied: sympy in /Users/suchanatratanarueangrong/anaconda3/lib/python3.10/site-packages (from torch>=1.10.0->accelerate) (1.11.1)\n",
      "Requirement already satisfied: networkx in /Users/suchanatratanarueangrong/anaconda3/lib/python3.10/site-packages (from torch>=1.10.0->accelerate) (2.8.4)\n",
      "Requirement already satisfied: jinja2 in /Users/suchanatratanarueangrong/anaconda3/lib/python3.10/site-packages (from torch>=1.10.0->accelerate) (3.1.2)\n",
      "Requirement already satisfied: MarkupSafe>=2.0 in /Users/suchanatratanarueangrong/anaconda3/lib/python3.10/site-packages (from jinja2->torch>=1.10.0->accelerate) (2.1.1)\n",
      "Requirement already satisfied: mpmath>=0.19 in /Users/suchanatratanarueangrong/anaconda3/lib/python3.10/site-packages/mpmath-1.2.1-py3.10.egg (from sympy->torch>=1.10.0->accelerate) (1.2.1)\n",
      "Note: you may need to restart the kernel to use updated packages.\n"
     ]
    }
   ],
   "source": [
    "pip install --upgrade accelerate"
   ]
  },
  {
   "cell_type": "code",
   "execution_count": 4,
   "metadata": {
    "id": "TPgV8ZkjzI_D"
   },
   "outputs": [],
   "source": [
    "# !pip install transformers[torch]"
   ]
  },
  {
   "cell_type": "code",
   "execution_count": 5,
   "metadata": {},
   "outputs": [
    {
     "name": "stdout",
     "output_type": "stream",
     "text": [
      "Requirement already satisfied: jupyter-docx-bundler in /Users/suchanatratanarueangrong/anaconda3/lib/python3.10/site-packages (0.3.5)\n",
      "Requirement already satisfied: lxml in /Users/suchanatratanarueangrong/anaconda3/lib/python3.10/site-packages (from jupyter-docx-bundler) (4.9.2)\n",
      "Requirement already satisfied: nbconvert>=7.0 in /Users/suchanatratanarueangrong/anaconda3/lib/python3.10/site-packages (from jupyter-docx-bundler) (7.7.3)\n",
      "Requirement already satisfied: notebook>=5.0 in /Users/suchanatratanarueangrong/anaconda3/lib/python3.10/site-packages (from jupyter-docx-bundler) (6.5.4)\n",
      "Requirement already satisfied: pandas in /Users/suchanatratanarueangrong/anaconda3/lib/python3.10/site-packages (from jupyter-docx-bundler) (1.5.3)\n",
      "Requirement already satisfied: pandocfilters in /Users/suchanatratanarueangrong/anaconda3/lib/python3.10/site-packages (from jupyter-docx-bundler) (1.5.0)\n",
      "Requirement already satisfied: pypandoc>=1.4 in /Users/suchanatratanarueangrong/anaconda3/lib/python3.10/site-packages (from jupyter-docx-bundler) (1.11)\n",
      "Requirement already satisfied: requests in /Users/suchanatratanarueangrong/anaconda3/lib/python3.10/site-packages (from jupyter-docx-bundler) (2.29.0)\n",
      "Requirement already satisfied: tabulate in /Users/suchanatratanarueangrong/anaconda3/lib/python3.10/site-packages (from jupyter-docx-bundler) (0.9.0)\n",
      "Requirement already satisfied: tornado in /Users/suchanatratanarueangrong/anaconda3/lib/python3.10/site-packages (from jupyter-docx-bundler) (6.2)\n",
      "Requirement already satisfied: beautifulsoup4 in /Users/suchanatratanarueangrong/anaconda3/lib/python3.10/site-packages (from nbconvert>=7.0->jupyter-docx-bundler) (4.12.2)\n",
      "Requirement already satisfied: bleach!=5.0.0 in /Users/suchanatratanarueangrong/anaconda3/lib/python3.10/site-packages (from nbconvert>=7.0->jupyter-docx-bundler) (4.1.0)\n",
      "Requirement already satisfied: defusedxml in /Users/suchanatratanarueangrong/anaconda3/lib/python3.10/site-packages (from nbconvert>=7.0->jupyter-docx-bundler) (0.7.1)\n",
      "Requirement already satisfied: jinja2>=3.0 in /Users/suchanatratanarueangrong/anaconda3/lib/python3.10/site-packages (from nbconvert>=7.0->jupyter-docx-bundler) (3.1.2)\n",
      "Requirement already satisfied: jupyter-core>=4.7 in /Users/suchanatratanarueangrong/anaconda3/lib/python3.10/site-packages (from nbconvert>=7.0->jupyter-docx-bundler) (5.3.0)\n",
      "Requirement already satisfied: jupyterlab-pygments in /Users/suchanatratanarueangrong/anaconda3/lib/python3.10/site-packages (from nbconvert>=7.0->jupyter-docx-bundler) (0.1.2)\n",
      "Requirement already satisfied: markupsafe>=2.0 in /Users/suchanatratanarueangrong/anaconda3/lib/python3.10/site-packages (from nbconvert>=7.0->jupyter-docx-bundler) (2.1.1)\n",
      "Requirement already satisfied: mistune<4,>=2.0.3 in /Users/suchanatratanarueangrong/anaconda3/lib/python3.10/site-packages (from nbconvert>=7.0->jupyter-docx-bundler) (3.0.1)\n",
      "Requirement already satisfied: nbclient>=0.5.0 in /Users/suchanatratanarueangrong/anaconda3/lib/python3.10/site-packages (from nbconvert>=7.0->jupyter-docx-bundler) (0.5.13)\n",
      "Requirement already satisfied: nbformat>=5.7 in /Users/suchanatratanarueangrong/anaconda3/lib/python3.10/site-packages (from nbconvert>=7.0->jupyter-docx-bundler) (5.7.0)\n",
      "Requirement already satisfied: packaging in /Users/suchanatratanarueangrong/anaconda3/lib/python3.10/site-packages (from nbconvert>=7.0->jupyter-docx-bundler) (23.0)\n",
      "Requirement already satisfied: pygments>=2.4.1 in /Users/suchanatratanarueangrong/anaconda3/lib/python3.10/site-packages (from nbconvert>=7.0->jupyter-docx-bundler) (2.15.1)\n",
      "Requirement already satisfied: tinycss2 in /Users/suchanatratanarueangrong/anaconda3/lib/python3.10/site-packages (from nbconvert>=7.0->jupyter-docx-bundler) (1.2.1)\n",
      "Requirement already satisfied: traitlets>=5.1 in /Users/suchanatratanarueangrong/anaconda3/lib/python3.10/site-packages (from nbconvert>=7.0->jupyter-docx-bundler) (5.7.1)\n",
      "Requirement already satisfied: pyzmq>=17 in /Users/suchanatratanarueangrong/anaconda3/lib/python3.10/site-packages (from notebook>=5.0->jupyter-docx-bundler) (23.2.0)\n",
      "Requirement already satisfied: argon2-cffi in /Users/suchanatratanarueangrong/anaconda3/lib/python3.10/site-packages (from notebook>=5.0->jupyter-docx-bundler) (21.3.0)\n",
      "Requirement already satisfied: jupyter-client>=5.3.4 in /Users/suchanatratanarueangrong/anaconda3/lib/python3.10/site-packages (from notebook>=5.0->jupyter-docx-bundler) (7.4.9)\n",
      "Requirement already satisfied: ipython-genutils in /Users/suchanatratanarueangrong/anaconda3/lib/python3.10/site-packages (from notebook>=5.0->jupyter-docx-bundler) (0.2.0)\n",
      "Requirement already satisfied: nest-asyncio>=1.5 in /Users/suchanatratanarueangrong/anaconda3/lib/python3.10/site-packages (from notebook>=5.0->jupyter-docx-bundler) (1.5.6)\n",
      "Requirement already satisfied: ipykernel in /Users/suchanatratanarueangrong/anaconda3/lib/python3.10/site-packages (from notebook>=5.0->jupyter-docx-bundler) (6.19.2)\n",
      "Requirement already satisfied: Send2Trash>=1.8.0 in /Users/suchanatratanarueangrong/anaconda3/lib/python3.10/site-packages (from notebook>=5.0->jupyter-docx-bundler) (1.8.0)\n",
      "Requirement already satisfied: terminado>=0.8.3 in /Users/suchanatratanarueangrong/anaconda3/lib/python3.10/site-packages (from notebook>=5.0->jupyter-docx-bundler) (0.17.1)\n",
      "Requirement already satisfied: prometheus-client in /Users/suchanatratanarueangrong/anaconda3/lib/python3.10/site-packages (from notebook>=5.0->jupyter-docx-bundler) (0.14.1)\n",
      "Requirement already satisfied: nbclassic>=0.4.7 in /Users/suchanatratanarueangrong/anaconda3/lib/python3.10/site-packages (from notebook>=5.0->jupyter-docx-bundler) (0.5.5)\n",
      "Requirement already satisfied: python-dateutil>=2.8.1 in /Users/suchanatratanarueangrong/anaconda3/lib/python3.10/site-packages (from pandas->jupyter-docx-bundler) (2.8.2)\n",
      "Requirement already satisfied: pytz>=2020.1 in /Users/suchanatratanarueangrong/anaconda3/lib/python3.10/site-packages (from pandas->jupyter-docx-bundler) (2022.7)\n",
      "Requirement already satisfied: numpy>=1.21.0 in /Users/suchanatratanarueangrong/anaconda3/lib/python3.10/site-packages (from pandas->jupyter-docx-bundler) (1.25.0)\n",
      "Requirement already satisfied: charset-normalizer<4,>=2 in /Users/suchanatratanarueangrong/anaconda3/lib/python3.10/site-packages (from requests->jupyter-docx-bundler) (2.0.4)\n",
      "Requirement already satisfied: idna<4,>=2.5 in /Users/suchanatratanarueangrong/anaconda3/lib/python3.10/site-packages (from requests->jupyter-docx-bundler) (3.4)\n",
      "Requirement already satisfied: urllib3<1.27,>=1.21.1 in /Users/suchanatratanarueangrong/anaconda3/lib/python3.10/site-packages (from requests->jupyter-docx-bundler) (1.26.16)\n",
      "Requirement already satisfied: certifi>=2017.4.17 in /Users/suchanatratanarueangrong/anaconda3/lib/python3.10/site-packages (from requests->jupyter-docx-bundler) (2023.7.22)\n",
      "Requirement already satisfied: six>=1.9.0 in /Users/suchanatratanarueangrong/anaconda3/lib/python3.10/site-packages (from bleach!=5.0.0->nbconvert>=7.0->jupyter-docx-bundler) (1.16.0)\n",
      "Requirement already satisfied: webencodings in /Users/suchanatratanarueangrong/anaconda3/lib/python3.10/site-packages (from bleach!=5.0.0->nbconvert>=7.0->jupyter-docx-bundler) (0.5.1)\n",
      "Requirement already satisfied: entrypoints in /Users/suchanatratanarueangrong/anaconda3/lib/python3.10/site-packages (from jupyter-client>=5.3.4->notebook>=5.0->jupyter-docx-bundler) (0.4)\n",
      "Requirement already satisfied: platformdirs>=2.5 in /Users/suchanatratanarueangrong/anaconda3/lib/python3.10/site-packages (from jupyter-core>=4.7->nbconvert>=7.0->jupyter-docx-bundler) (2.5.2)\n",
      "Requirement already satisfied: jupyter-server>=1.8 in /Users/suchanatratanarueangrong/anaconda3/lib/python3.10/site-packages (from nbclassic>=0.4.7->notebook>=5.0->jupyter-docx-bundler) (1.23.4)\n",
      "Requirement already satisfied: notebook-shim>=0.1.0 in /Users/suchanatratanarueangrong/anaconda3/lib/python3.10/site-packages (from nbclassic>=0.4.7->notebook>=5.0->jupyter-docx-bundler) (0.2.2)\n",
      "Requirement already satisfied: fastjsonschema in /Users/suchanatratanarueangrong/anaconda3/lib/python3.10/site-packages (from nbformat>=5.7->nbconvert>=7.0->jupyter-docx-bundler) (2.16.2)\n",
      "Requirement already satisfied: jsonschema>=2.6 in /Users/suchanatratanarueangrong/anaconda3/lib/python3.10/site-packages (from nbformat>=5.7->nbconvert>=7.0->jupyter-docx-bundler) (4.17.3)\n",
      "Requirement already satisfied: ptyprocess in /Users/suchanatratanarueangrong/anaconda3/lib/python3.10/site-packages (from terminado>=0.8.3->notebook>=5.0->jupyter-docx-bundler) (0.7.0)\n"
     ]
    },
    {
     "name": "stdout",
     "output_type": "stream",
     "text": [
      "Requirement already satisfied: argon2-cffi-bindings in /Users/suchanatratanarueangrong/anaconda3/lib/python3.10/site-packages (from argon2-cffi->notebook>=5.0->jupyter-docx-bundler) (21.2.0)\n",
      "Requirement already satisfied: soupsieve>1.2 in /Users/suchanatratanarueangrong/anaconda3/lib/python3.10/site-packages (from beautifulsoup4->nbconvert>=7.0->jupyter-docx-bundler) (2.4)\n",
      "Requirement already satisfied: appnope in /Users/suchanatratanarueangrong/anaconda3/lib/python3.10/site-packages (from ipykernel->notebook>=5.0->jupyter-docx-bundler) (0.1.2)\n",
      "Requirement already satisfied: comm>=0.1.1 in /Users/suchanatratanarueangrong/anaconda3/lib/python3.10/site-packages (from ipykernel->notebook>=5.0->jupyter-docx-bundler) (0.1.2)\n",
      "Requirement already satisfied: debugpy>=1.0 in /Users/suchanatratanarueangrong/anaconda3/lib/python3.10/site-packages (from ipykernel->notebook>=5.0->jupyter-docx-bundler) (1.5.1)\n",
      "Requirement already satisfied: ipython>=7.23.1 in /Users/suchanatratanarueangrong/anaconda3/lib/python3.10/site-packages (from ipykernel->notebook>=5.0->jupyter-docx-bundler) (8.12.0)\n",
      "Requirement already satisfied: matplotlib-inline>=0.1 in /Users/suchanatratanarueangrong/anaconda3/lib/python3.10/site-packages (from ipykernel->notebook>=5.0->jupyter-docx-bundler) (0.1.6)\n",
      "Requirement already satisfied: psutil in /Users/suchanatratanarueangrong/anaconda3/lib/python3.10/site-packages (from ipykernel->notebook>=5.0->jupyter-docx-bundler) (5.9.0)\n",
      "Requirement already satisfied: backcall in /Users/suchanatratanarueangrong/anaconda3/lib/python3.10/site-packages (from ipython>=7.23.1->ipykernel->notebook>=5.0->jupyter-docx-bundler) (0.2.0)\n",
      "Requirement already satisfied: decorator in /Users/suchanatratanarueangrong/anaconda3/lib/python3.10/site-packages (from ipython>=7.23.1->ipykernel->notebook>=5.0->jupyter-docx-bundler) (5.1.1)\n",
      "Requirement already satisfied: jedi>=0.16 in /Users/suchanatratanarueangrong/anaconda3/lib/python3.10/site-packages (from ipython>=7.23.1->ipykernel->notebook>=5.0->jupyter-docx-bundler) (0.18.1)\n",
      "Requirement already satisfied: pickleshare in /Users/suchanatratanarueangrong/anaconda3/lib/python3.10/site-packages (from ipython>=7.23.1->ipykernel->notebook>=5.0->jupyter-docx-bundler) (0.7.5)\n",
      "Requirement already satisfied: prompt-toolkit!=3.0.37,<3.1.0,>=3.0.30 in /Users/suchanatratanarueangrong/anaconda3/lib/python3.10/site-packages (from ipython>=7.23.1->ipykernel->notebook>=5.0->jupyter-docx-bundler) (3.0.36)\n",
      "Requirement already satisfied: stack-data in /Users/suchanatratanarueangrong/anaconda3/lib/python3.10/site-packages (from ipython>=7.23.1->ipykernel->notebook>=5.0->jupyter-docx-bundler) (0.2.0)\n",
      "Requirement already satisfied: pexpect>4.3 in /Users/suchanatratanarueangrong/anaconda3/lib/python3.10/site-packages (from ipython>=7.23.1->ipykernel->notebook>=5.0->jupyter-docx-bundler) (4.8.0)\n",
      "Requirement already satisfied: attrs>=17.4.0 in /Users/suchanatratanarueangrong/anaconda3/lib/python3.10/site-packages (from jsonschema>=2.6->nbformat>=5.7->nbconvert>=7.0->jupyter-docx-bundler) (22.1.0)\n",
      "Requirement already satisfied: pyrsistent!=0.17.0,!=0.17.1,!=0.17.2,>=0.14.0 in /Users/suchanatratanarueangrong/anaconda3/lib/python3.10/site-packages (from jsonschema>=2.6->nbformat>=5.7->nbconvert>=7.0->jupyter-docx-bundler) (0.18.0)\n",
      "Requirement already satisfied: anyio<4,>=3.1.0 in /Users/suchanatratanarueangrong/anaconda3/lib/python3.10/site-packages (from jupyter-server>=1.8->nbclassic>=0.4.7->notebook>=5.0->jupyter-docx-bundler) (3.5.0)\n",
      "Requirement already satisfied: websocket-client in /Users/suchanatratanarueangrong/anaconda3/lib/python3.10/site-packages (from jupyter-server>=1.8->nbclassic>=0.4.7->notebook>=5.0->jupyter-docx-bundler) (0.58.0)\n",
      "Requirement already satisfied: cffi>=1.0.1 in /Users/suchanatratanarueangrong/anaconda3/lib/python3.10/site-packages (from argon2-cffi-bindings->argon2-cffi->notebook>=5.0->jupyter-docx-bundler) (1.15.1)\n",
      "Requirement already satisfied: sniffio>=1.1 in /Users/suchanatratanarueangrong/anaconda3/lib/python3.10/site-packages (from anyio<4,>=3.1.0->jupyter-server>=1.8->nbclassic>=0.4.7->notebook>=5.0->jupyter-docx-bundler) (1.2.0)\n",
      "Requirement already satisfied: pycparser in /Users/suchanatratanarueangrong/anaconda3/lib/python3.10/site-packages (from cffi>=1.0.1->argon2-cffi-bindings->argon2-cffi->notebook>=5.0->jupyter-docx-bundler) (2.21)\n",
      "Requirement already satisfied: parso<0.9.0,>=0.8.0 in /Users/suchanatratanarueangrong/anaconda3/lib/python3.10/site-packages (from jedi>=0.16->ipython>=7.23.1->ipykernel->notebook>=5.0->jupyter-docx-bundler) (0.8.3)\n",
      "Requirement already satisfied: wcwidth in /Users/suchanatratanarueangrong/anaconda3/lib/python3.10/site-packages (from prompt-toolkit!=3.0.37,<3.1.0,>=3.0.30->ipython>=7.23.1->ipykernel->notebook>=5.0->jupyter-docx-bundler) (0.2.5)\n",
      "Requirement already satisfied: executing in /Users/suchanatratanarueangrong/anaconda3/lib/python3.10/site-packages (from stack-data->ipython>=7.23.1->ipykernel->notebook>=5.0->jupyter-docx-bundler) (0.8.3)\n",
      "Requirement already satisfied: asttokens in /Users/suchanatratanarueangrong/anaconda3/lib/python3.10/site-packages (from stack-data->ipython>=7.23.1->ipykernel->notebook>=5.0->jupyter-docx-bundler) (2.0.5)\n",
      "Requirement already satisfied: pure-eval in /Users/suchanatratanarueangrong/anaconda3/lib/python3.10/site-packages (from stack-data->ipython>=7.23.1->ipykernel->notebook>=5.0->jupyter-docx-bundler) (0.2.2)\n",
      "Note: you may need to restart the kernel to use updated packages.\n"
     ]
    }
   ],
   "source": [
    "pip install jupyter-docx-bundler"
   ]
  },
  {
   "cell_type": "code",
   "execution_count": 6,
   "metadata": {
    "colab": {
     "base_uri": "https://localhost:8080/"
    },
    "id": "l9PhAQicEyQd",
    "outputId": "46c0d1f5-614a-48e9-a423-f2f593381c9a"
   },
   "outputs": [
    {
     "name": "stdout",
     "output_type": "stream",
     "text": [
      "Requirement already satisfied: PyPDF2 in /Users/suchanatratanarueangrong/miniforge3/lib/python3.10/site-packages (3.0.1)\n",
      "Requirement already satisfied: python-docx in /Users/suchanatratanarueangrong/miniforge3/lib/python3.10/site-packages (0.8.11)\n",
      "Requirement already satisfied: lxml>=2.3.2 in /Users/suchanatratanarueangrong/miniforge3/lib/python3.10/site-packages (from python-docx) (4.9.3)\n"
     ]
    }
   ],
   "source": [
    "!pip install -U PyPDF2\n",
    "!pip install python-docx"
   ]
  },
  {
   "cell_type": "code",
   "execution_count": 7,
   "metadata": {
    "id": "ItYpaZD9EH7J"
   },
   "outputs": [],
   "source": [
    "import pandas as pd\n",
    "import numpy as np\n",
    "import re\n",
    "from PyPDF2 import PdfReader\n",
    "import os\n",
    "#import docx"
   ]
  },
  {
   "cell_type": "code",
   "execution_count": 8,
   "metadata": {
    "id": "Ly_QfYPDHlie"
   },
   "outputs": [],
   "source": [
    "# Functions to read different file types\n",
    "def read_pdf(file_path):\n",
    "    with open(file_path, \"rb\") as file:\n",
    "        pdf_reader = PdfReader(file)\n",
    "        text = \"\"\n",
    "        for page_num in range(len(pdf_reader.pages)):\n",
    "            text += pdf_reader.pages[page_num].extract_text()\n",
    "    return text\n",
    "\n",
    "def read_word(file_path):\n",
    "    doc = docx.Document(file_path)\n",
    "    text = \"\"\n",
    "    for paragraph in doc.paragraphs:\n",
    "        text += paragraph.text + \"\\n\"\n",
    "    return text\n",
    "\n",
    "def read_txt(file_path):\n",
    "    with open(file_path, \"r\") as file:\n",
    "        text = file.read()\n",
    "    return text\n",
    "\n",
    "def read_documents_from_directory(directory):\n",
    "    combined_text = \"\"\n",
    "    for filename in os.listdir(directory):\n",
    "        file_path = os.path.join(directory, filename)\n",
    "        if filename.endswith(\".pdf\"):\n",
    "            combined_text += read_pdf(file_path)\n",
    "        elif filename.endswith(\".docx\"):\n",
    "            combined_text += read_word(file_path)\n",
    "        elif filename.endswith(\".txt\"):\n",
    "            combined_text += read_txt(file_path)\n",
    "    return combined_text\n"
   ]
  },
  {
   "cell_type": "code",
   "execution_count": 9,
   "metadata": {
    "id": "oobynnecHx87"
   },
   "outputs": [],
   "source": [
    "# Read documents from the directory\n",
    "#train_directory = '/content/drive/MyDrive/ColabNotebooks/data/chatbot_docs/training_data/full_text'\n",
    "# train_directory = '/content/drive/MyDrive/ColabNotebooks/data/chatbot_docs/training_data/q_and_a'\n",
    "train_directory = '/Users/suchanatratanarueangrong/Machine learning/Gpt2/train'\n",
    "text_data = read_documents_from_directory(train_directory)\n",
    "text_data = re.sub(r'\\n+', '\\n', text_data).strip()  # Remove excess newline characters\n"
   ]
  },
  {
   "cell_type": "code",
   "execution_count": 10,
   "metadata": {
    "id": "YUR9VpCuE5GN"
   },
   "outputs": [],
   "source": [
    "#text_data = read_pdf('/content/drive/MyDrive/ColabNotebooks/data/chatbot_docs/Cell_Biology.pdf')\n",
    "#text_data = re.sub(r'\\n+', '\\n', text_data).strip()  # Remove excess newline characters"
   ]
  },
  {
   "cell_type": "code",
   "execution_count": 11,
   "metadata": {
    "id": "-ZaBPMO-GZQP"
   },
   "outputs": [],
   "source": [
    "# Save the training and validation data as text files\n",
    "#with open(\"/content/drive/MyDrive/ColabNotebooks/data/chatbot_docs/combined_text/full_text/train.txt\", \"w\") as f:\n",
    " #   f.write(text_data)s"
   ]
  },
  {
   "cell_type": "code",
   "execution_count": 12,
   "metadata": {
    "id": "8RCPr_L0uJdo"
   },
   "outputs": [],
   "source": [
    "with open(\"/Users/suchanatratanarueangrong/Machine learning/Gpt2/train/example_1.txt\", \"w\") as f:\n",
    "    f.write(text_data)"
   ]
  },
  {
   "cell_type": "code",
   "execution_count": 13,
   "metadata": {
    "id": "9MFaNgaDEVKP"
   },
   "outputs": [
    {
     "name": "stderr",
     "output_type": "stream",
     "text": [
      "/Users/suchanatratanarueangrong/anaconda3/lib/python3.10/site-packages/tqdm/auto.py:21: TqdmWarning: IProgress not found. Please update jupyter and ipywidgets. See https://ipywidgets.readthedocs.io/en/stable/user_install.html\n",
      "  from .autonotebook import tqdm as notebook_tqdm\n"
     ]
    }
   ],
   "source": [
    "from transformers import TextDataset, DataCollatorForLanguageModeling\n",
    "from transformers import GPT2Tokenizer, GPT2LMHeadModel\n",
    "from transformers import Trainer, TrainingArguments"
   ]
  },
  {
   "cell_type": "code",
   "execution_count": 14,
   "metadata": {
    "id": "Wk_14dI9EVdD"
   },
   "outputs": [],
   "source": [
    "def load_dataset(file_path, tokenizer, block_size = 128):\n",
    "    dataset = TextDataset(\n",
    "        tokenizer = tokenizer,\n",
    "        file_path = file_path,\n",
    "        block_size = block_size,\n",
    "    )\n",
    "    return dataset"
   ]
  },
  {
   "cell_type": "code",
   "execution_count": 15,
   "metadata": {
    "id": "QJcoT-aNFcKp"
   },
   "outputs": [],
   "source": [
    "def load_data_collator(tokenizer, mlm = False):\n",
    "    data_collator = DataCollatorForLanguageModeling(\n",
    "        tokenizer=tokenizer,\n",
    "        mlm=mlm,\n",
    "    )\n",
    "    return data_collator"
   ]
  },
  {
   "cell_type": "code",
   "execution_count": 16,
   "metadata": {
    "id": "Ub3THjJ_FdSw"
   },
   "outputs": [],
   "source": [
    "def train(train_file_path,model_name,\n",
    "          output_dir,\n",
    "          overwrite_output_dir,\n",
    "          per_device_train_batch_size,\n",
    "          num_train_epochs,\n",
    "          save_steps):\n",
    "  tokenizer = GPT2Tokenizer.from_pretrained(model_name)\n",
    "  train_dataset = load_dataset(train_file_path, tokenizer)\n",
    "  data_collator = load_data_collator(tokenizer)\n",
    "\n",
    "  tokenizer.save_pretrained(output_dir)\n",
    "\n",
    "  model = GPT2LMHeadModel.from_pretrained(model_name)\n",
    "\n",
    "  model.save_pretrained(output_dir)\n",
    "\n",
    "  training_args = TrainingArguments(\n",
    "          output_dir=output_dir,\n",
    "          overwrite_output_dir=overwrite_output_dir,\n",
    "          per_device_train_batch_size=per_device_train_batch_size,\n",
    "          num_train_epochs=num_train_epochs,\n",
    "      )\n",
    "\n",
    "  trainer = Trainer(\n",
    "          model=model,\n",
    "          args=training_args,\n",
    "          data_collator=data_collator,\n",
    "          train_dataset=train_dataset,\n",
    "  )\n",
    "\n",
    "  trainer.train()\n",
    "  trainer.save_model()"
   ]
  },
  {
   "cell_type": "code",
   "execution_count": 17,
   "metadata": {
    "id": "9mXiWKHbFr2f"
   },
   "outputs": [],
   "source": [
    "\n",
    "#train_file_path = \"/content/drive/MyDrive/ColabNotebooks/data/chatbot_docs/combined_text/full_text/train.txt\"\n",
    "# train_file_path = \"/content/custom_full_text/merges.txt\"\n",
    "train_file_path = \"/Users/suchanatratanarueangrong/Machine learning/Gpt2/train/example_1.txt\"\n",
    "model_name = 'gpt2'\n",
    "output_dir = '/Users/suchanatratanarueangrong/Machine learning/Gpt2/custom_full_text'\n",
    "# output_dir = '/content/Full_text'\n",
    "overwrite_output_dir = False\n",
    "per_device_train_batch_size = 16\n",
    "num_train_epochs = 500.0\n",
    "save_steps = 50000"
   ]
  },
  {
   "cell_type": "code",
   "execution_count": 18,
   "metadata": {
    "id": "-kTSVCV71E6V"
   },
   "outputs": [],
   "source": [
    "# !pip uninstall accelerate\n",
    "# !pip install accelerate==0.20.2\n",
    "# !pip show accelerate"
   ]
  },
  {
   "cell_type": "code",
   "execution_count": 19,
   "metadata": {
    "id": "lelq_sN4Gy5M"
   },
   "outputs": [],
   "source": [
    "from transformers import PreTrainedTokenizerFast, GPT2LMHeadModel, GPT2TokenizerFast, GPT2Tokenizer"
   ]
  },
  {
   "cell_type": "code",
   "execution_count": 20,
   "metadata": {
    "id": "tCKoz0m48bEC"
   },
   "outputs": [],
   "source": [
    "# !pip install accelerate==0.20.1\n",
    "\n",
    "# !pip show accelerate"
   ]
  },
  {
   "cell_type": "code",
   "execution_count": 21,
   "metadata": {
    "colab": {
     "base_uri": "https://localhost:8080/",
     "height": 75
    },
    "id": "WMdaTo7KF9uo",
    "outputId": "82b6298f-3a1b-42d4-a908-3c19707bf418"
   },
   "outputs": [
    {
     "name": "stderr",
     "output_type": "stream",
     "text": [
      "/Users/suchanatratanarueangrong/anaconda3/lib/python3.10/site-packages/transformers/data/datasets/language_modeling.py:53: FutureWarning: This dataset will be removed from the library soon, preprocessing should be handled with the 🤗 Datasets library. You can have a look at this example script for pointers: https://github.com/huggingface/transformers/blob/main/examples/pytorch/language-modeling/run_mlm.py\n",
      "  warnings.warn(\n",
      "/Users/suchanatratanarueangrong/anaconda3/lib/python3.10/site-packages/transformers/optimization.py:407: FutureWarning: This implementation of AdamW is deprecated and will be removed in a future version. Use the PyTorch implementation torch.optim.AdamW instead, or set `no_deprecation_warning=True` to disable this warning\n",
      "  warnings.warn(\n"
     ]
    },
    {
     "data": {
      "text/html": [
       "\n",
       "    <div>\n",
       "      \n",
       "      <progress value='500' max='500' style='width:300px; height:20px; vertical-align: middle;'></progress>\n",
       "      [500/500 09:37, Epoch 500/500]\n",
       "    </div>\n",
       "    <table border=\"1\" class=\"dataframe\">\n",
       "  <thead>\n",
       " <tr style=\"text-align: left;\">\n",
       "      <th>Step</th>\n",
       "      <th>Training Loss</th>\n",
       "    </tr>\n",
       "  </thead>\n",
       "  <tbody>\n",
       "    <tr>\n",
       "      <td>500</td>\n",
       "      <td>0.098300</td>\n",
       "    </tr>\n",
       "  </tbody>\n",
       "</table><p>"
      ],
      "text/plain": [
       "<IPython.core.display.HTML object>"
      ]
     },
     "metadata": {},
     "output_type": "display_data"
    }
   ],
   "source": [
    "# Train\n",
    "train(\n",
    "    train_file_path=train_file_path,\n",
    "    model_name=model_name,\n",
    "    output_dir=output_dir,\n",
    "    overwrite_output_dir=overwrite_output_dir,\n",
    "    per_device_train_batch_size=per_device_train_batch_size,\n",
    "    num_train_epochs=num_train_epochs,\n",
    "    save_steps=save_steps\n",
    ")"
   ]
  },
  {
   "cell_type": "markdown",
   "metadata": {
    "id": "xwGS1IMlGBMB"
   },
   "source": [
    "Inference"
   ]
  },
  {
   "cell_type": "code",
   "execution_count": 22,
   "metadata": {
    "id": "wOvrNQRAG2IP"
   },
   "outputs": [],
   "source": [
    "def load_model(model_path):\n",
    "    model = GPT2LMHeadModel.from_pretrained(model_path)\n",
    "    return model\n",
    "\n",
    "\n",
    "def load_tokenizer(tokenizer_path):\n",
    "    tokenizer = GPT2Tokenizer.from_pretrained(tokenizer_path)\n",
    "    return tokenizer\n",
    "\n",
    "def generate_text(model_path, sequence, max_length):\n",
    "\n",
    "    model = load_model(model_path)\n",
    "    tokenizer = load_tokenizer(model_path)\n",
    "    ids = tokenizer.encode(f'{sequence}', return_tensors='pt')\n",
    "    final_outputs = model.generate(\n",
    "        ids,\n",
    "        do_sample=True,\n",
    "        max_length=max_length,\n",
    "        pad_token_id=model.config.eos_token_id,\n",
    "        top_k=50,\n",
    "        top_p=0.95,\n",
    "    )\n",
    "    print(tokenizer.decode(final_outputs[0], skip_special_tokens=True))"
   ]
  },
  {
   "cell_type": "markdown",
   "metadata": {
    "id": "BvNx7gjeRieD"
   },
   "source": [
    "This model got trained on the entire text and took much longer to train, and yet it fails to give meaningful results."
   ]
  },
  {
   "cell_type": "code",
   "execution_count": 33,
   "metadata": {
    "colab": {
     "base_uri": "https://localhost:8080/"
    },
    "id": "uSAOQPk8vOTE",
    "outputId": "2172a388-b00b-4cb3-fe17-6da444515ab6"
   },
   "outputs": [
    {
     "name": "stdout",
     "output_type": "stream",
     "text": [
      "Who create?\n",
      "[A] Each image associated with an Optimist NFT is dedicated to the public domain under the Creative Commons Zero (CC0) license. You can learn more about the Creative Commons Zero (CC0) license at https://creativecommons.org/licenses/by/2.0/wiki/File:\n"
     ]
    }
   ],
   "source": [
    "# model2_path = \"/content/drive/MyDrive/ColabNotebooks/models/chat_models/custom_q_and_a\"\n",
    "model2_path = \"/Users/suchanatratanarueangrong/Machine learning/Gpt2/custom_full_text\"\n",
    "sequence2 = \"Who create?\"\n",
    "max_len = 70\n",
    "generate_text(model2_path, sequence2, max_len)"
   ]
  },
  {
   "cell_type": "code",
   "execution_count": 24,
   "metadata": {
    "colab": {
     "base_uri": "https://localhost:8080/"
    },
    "id": "5mTDTrpnG5Ut",
    "outputId": "d950ed14-6e7e-43b5-e779-b44815762e3c"
   },
   "outputs": [
    {
     "ename": "OSError",
     "evalue": "Can't load the configuration of '/content/custom_full_text'. If you were trying to load it from 'https://huggingface.co/models', make sure you don't have a local directory with the same name. Otherwise, make sure '/content/custom_full_text' is the correct path to a directory containing a config.json file",
     "output_type": "error",
     "traceback": [
      "\u001b[0;31m---------------------------------------------------------------------------\u001b[0m",
      "\u001b[0;31mHFValidationError\u001b[0m                         Traceback (most recent call last)",
      "File \u001b[0;32m~/anaconda3/lib/python3.10/site-packages/transformers/configuration_utils.py:629\u001b[0m, in \u001b[0;36mPretrainedConfig._get_config_dict\u001b[0;34m(cls, pretrained_model_name_or_path, **kwargs)\u001b[0m\n\u001b[1;32m    627\u001b[0m \u001b[38;5;28;01mtry\u001b[39;00m:\n\u001b[1;32m    628\u001b[0m     \u001b[38;5;66;03m# Load from local folder or from cache or download from model Hub and cache\u001b[39;00m\n\u001b[0;32m--> 629\u001b[0m     resolved_config_file \u001b[38;5;241m=\u001b[39m \u001b[43mcached_file\u001b[49m\u001b[43m(\u001b[49m\n\u001b[1;32m    630\u001b[0m \u001b[43m        \u001b[49m\u001b[43mpretrained_model_name_or_path\u001b[49m\u001b[43m,\u001b[49m\n\u001b[1;32m    631\u001b[0m \u001b[43m        \u001b[49m\u001b[43mconfiguration_file\u001b[49m\u001b[43m,\u001b[49m\n\u001b[1;32m    632\u001b[0m \u001b[43m        \u001b[49m\u001b[43mcache_dir\u001b[49m\u001b[38;5;241;43m=\u001b[39;49m\u001b[43mcache_dir\u001b[49m\u001b[43m,\u001b[49m\n\u001b[1;32m    633\u001b[0m \u001b[43m        \u001b[49m\u001b[43mforce_download\u001b[49m\u001b[38;5;241;43m=\u001b[39;49m\u001b[43mforce_download\u001b[49m\u001b[43m,\u001b[49m\n\u001b[1;32m    634\u001b[0m \u001b[43m        \u001b[49m\u001b[43mproxies\u001b[49m\u001b[38;5;241;43m=\u001b[39;49m\u001b[43mproxies\u001b[49m\u001b[43m,\u001b[49m\n\u001b[1;32m    635\u001b[0m \u001b[43m        \u001b[49m\u001b[43mresume_download\u001b[49m\u001b[38;5;241;43m=\u001b[39;49m\u001b[43mresume_download\u001b[49m\u001b[43m,\u001b[49m\n\u001b[1;32m    636\u001b[0m \u001b[43m        \u001b[49m\u001b[43mlocal_files_only\u001b[49m\u001b[38;5;241;43m=\u001b[39;49m\u001b[43mlocal_files_only\u001b[49m\u001b[43m,\u001b[49m\n\u001b[1;32m    637\u001b[0m \u001b[43m        \u001b[49m\u001b[43muse_auth_token\u001b[49m\u001b[38;5;241;43m=\u001b[39;49m\u001b[43muse_auth_token\u001b[49m\u001b[43m,\u001b[49m\n\u001b[1;32m    638\u001b[0m \u001b[43m        \u001b[49m\u001b[43muser_agent\u001b[49m\u001b[38;5;241;43m=\u001b[39;49m\u001b[43muser_agent\u001b[49m\u001b[43m,\u001b[49m\n\u001b[1;32m    639\u001b[0m \u001b[43m        \u001b[49m\u001b[43mrevision\u001b[49m\u001b[38;5;241;43m=\u001b[39;49m\u001b[43mrevision\u001b[49m\u001b[43m,\u001b[49m\n\u001b[1;32m    640\u001b[0m \u001b[43m        \u001b[49m\u001b[43msubfolder\u001b[49m\u001b[38;5;241;43m=\u001b[39;49m\u001b[43msubfolder\u001b[49m\u001b[43m,\u001b[49m\n\u001b[1;32m    641\u001b[0m \u001b[43m        \u001b[49m\u001b[43m_commit_hash\u001b[49m\u001b[38;5;241;43m=\u001b[39;49m\u001b[43mcommit_hash\u001b[49m\u001b[43m,\u001b[49m\n\u001b[1;32m    642\u001b[0m \u001b[43m    \u001b[49m\u001b[43m)\u001b[49m\n\u001b[1;32m    643\u001b[0m     commit_hash \u001b[38;5;241m=\u001b[39m extract_commit_hash(resolved_config_file, commit_hash)\n",
      "File \u001b[0;32m~/anaconda3/lib/python3.10/site-packages/transformers/utils/hub.py:417\u001b[0m, in \u001b[0;36mcached_file\u001b[0;34m(path_or_repo_id, filename, cache_dir, force_download, resume_download, proxies, use_auth_token, revision, local_files_only, subfolder, repo_type, user_agent, _raise_exceptions_for_missing_entries, _raise_exceptions_for_connection_errors, _commit_hash)\u001b[0m\n\u001b[1;32m    415\u001b[0m \u001b[38;5;28;01mtry\u001b[39;00m:\n\u001b[1;32m    416\u001b[0m     \u001b[38;5;66;03m# Load from URL or cache if already cached\u001b[39;00m\n\u001b[0;32m--> 417\u001b[0m     resolved_file \u001b[38;5;241m=\u001b[39m \u001b[43mhf_hub_download\u001b[49m\u001b[43m(\u001b[49m\n\u001b[1;32m    418\u001b[0m \u001b[43m        \u001b[49m\u001b[43mpath_or_repo_id\u001b[49m\u001b[43m,\u001b[49m\n\u001b[1;32m    419\u001b[0m \u001b[43m        \u001b[49m\u001b[43mfilename\u001b[49m\u001b[43m,\u001b[49m\n\u001b[1;32m    420\u001b[0m \u001b[43m        \u001b[49m\u001b[43msubfolder\u001b[49m\u001b[38;5;241;43m=\u001b[39;49m\u001b[38;5;28;43;01mNone\u001b[39;49;00m\u001b[43m \u001b[49m\u001b[38;5;28;43;01mif\u001b[39;49;00m\u001b[43m \u001b[49m\u001b[38;5;28;43mlen\u001b[39;49m\u001b[43m(\u001b[49m\u001b[43msubfolder\u001b[49m\u001b[43m)\u001b[49m\u001b[43m \u001b[49m\u001b[38;5;241;43m==\u001b[39;49m\u001b[43m \u001b[49m\u001b[38;5;241;43m0\u001b[39;49m\u001b[43m \u001b[49m\u001b[38;5;28;43;01melse\u001b[39;49;00m\u001b[43m \u001b[49m\u001b[43msubfolder\u001b[49m\u001b[43m,\u001b[49m\n\u001b[1;32m    421\u001b[0m \u001b[43m        \u001b[49m\u001b[43mrepo_type\u001b[49m\u001b[38;5;241;43m=\u001b[39;49m\u001b[43mrepo_type\u001b[49m\u001b[43m,\u001b[49m\n\u001b[1;32m    422\u001b[0m \u001b[43m        \u001b[49m\u001b[43mrevision\u001b[49m\u001b[38;5;241;43m=\u001b[39;49m\u001b[43mrevision\u001b[49m\u001b[43m,\u001b[49m\n\u001b[1;32m    423\u001b[0m \u001b[43m        \u001b[49m\u001b[43mcache_dir\u001b[49m\u001b[38;5;241;43m=\u001b[39;49m\u001b[43mcache_dir\u001b[49m\u001b[43m,\u001b[49m\n\u001b[1;32m    424\u001b[0m \u001b[43m        \u001b[49m\u001b[43muser_agent\u001b[49m\u001b[38;5;241;43m=\u001b[39;49m\u001b[43muser_agent\u001b[49m\u001b[43m,\u001b[49m\n\u001b[1;32m    425\u001b[0m \u001b[43m        \u001b[49m\u001b[43mforce_download\u001b[49m\u001b[38;5;241;43m=\u001b[39;49m\u001b[43mforce_download\u001b[49m\u001b[43m,\u001b[49m\n\u001b[1;32m    426\u001b[0m \u001b[43m        \u001b[49m\u001b[43mproxies\u001b[49m\u001b[38;5;241;43m=\u001b[39;49m\u001b[43mproxies\u001b[49m\u001b[43m,\u001b[49m\n\u001b[1;32m    427\u001b[0m \u001b[43m        \u001b[49m\u001b[43mresume_download\u001b[49m\u001b[38;5;241;43m=\u001b[39;49m\u001b[43mresume_download\u001b[49m\u001b[43m,\u001b[49m\n\u001b[1;32m    428\u001b[0m \u001b[43m        \u001b[49m\u001b[43muse_auth_token\u001b[49m\u001b[38;5;241;43m=\u001b[39;49m\u001b[43muse_auth_token\u001b[49m\u001b[43m,\u001b[49m\n\u001b[1;32m    429\u001b[0m \u001b[43m        \u001b[49m\u001b[43mlocal_files_only\u001b[49m\u001b[38;5;241;43m=\u001b[39;49m\u001b[43mlocal_files_only\u001b[49m\u001b[43m,\u001b[49m\n\u001b[1;32m    430\u001b[0m \u001b[43m    \u001b[49m\u001b[43m)\u001b[49m\n\u001b[1;32m    432\u001b[0m \u001b[38;5;28;01mexcept\u001b[39;00m RepositoryNotFoundError:\n",
      "File \u001b[0;32m~/anaconda3/lib/python3.10/site-packages/huggingface_hub/utils/_validators.py:110\u001b[0m, in \u001b[0;36mvalidate_hf_hub_args.<locals>._inner_fn\u001b[0;34m(*args, **kwargs)\u001b[0m\n\u001b[1;32m    109\u001b[0m \u001b[38;5;28;01mif\u001b[39;00m arg_name \u001b[38;5;129;01min\u001b[39;00m [\u001b[38;5;124m\"\u001b[39m\u001b[38;5;124mrepo_id\u001b[39m\u001b[38;5;124m\"\u001b[39m, \u001b[38;5;124m\"\u001b[39m\u001b[38;5;124mfrom_id\u001b[39m\u001b[38;5;124m\"\u001b[39m, \u001b[38;5;124m\"\u001b[39m\u001b[38;5;124mto_id\u001b[39m\u001b[38;5;124m\"\u001b[39m]:\n\u001b[0;32m--> 110\u001b[0m     \u001b[43mvalidate_repo_id\u001b[49m\u001b[43m(\u001b[49m\u001b[43marg_value\u001b[49m\u001b[43m)\u001b[49m\n\u001b[1;32m    112\u001b[0m \u001b[38;5;28;01melif\u001b[39;00m arg_name \u001b[38;5;241m==\u001b[39m \u001b[38;5;124m\"\u001b[39m\u001b[38;5;124mtoken\u001b[39m\u001b[38;5;124m\"\u001b[39m \u001b[38;5;129;01mand\u001b[39;00m arg_value \u001b[38;5;129;01mis\u001b[39;00m \u001b[38;5;129;01mnot\u001b[39;00m \u001b[38;5;28;01mNone\u001b[39;00m:\n",
      "File \u001b[0;32m~/anaconda3/lib/python3.10/site-packages/huggingface_hub/utils/_validators.py:158\u001b[0m, in \u001b[0;36mvalidate_repo_id\u001b[0;34m(repo_id)\u001b[0m\n\u001b[1;32m    157\u001b[0m \u001b[38;5;28;01mif\u001b[39;00m repo_id\u001b[38;5;241m.\u001b[39mcount(\u001b[38;5;124m\"\u001b[39m\u001b[38;5;124m/\u001b[39m\u001b[38;5;124m\"\u001b[39m) \u001b[38;5;241m>\u001b[39m \u001b[38;5;241m1\u001b[39m:\n\u001b[0;32m--> 158\u001b[0m     \u001b[38;5;28;01mraise\u001b[39;00m HFValidationError(\n\u001b[1;32m    159\u001b[0m         \u001b[38;5;124m\"\u001b[39m\u001b[38;5;124mRepo id must be in the form \u001b[39m\u001b[38;5;124m'\u001b[39m\u001b[38;5;124mrepo_name\u001b[39m\u001b[38;5;124m'\u001b[39m\u001b[38;5;124m or \u001b[39m\u001b[38;5;124m'\u001b[39m\u001b[38;5;124mnamespace/repo_name\u001b[39m\u001b[38;5;124m'\u001b[39m\u001b[38;5;124m:\u001b[39m\u001b[38;5;124m\"\u001b[39m\n\u001b[1;32m    160\u001b[0m         \u001b[38;5;124mf\u001b[39m\u001b[38;5;124m\"\u001b[39m\u001b[38;5;124m \u001b[39m\u001b[38;5;124m'\u001b[39m\u001b[38;5;132;01m{\u001b[39;00mrepo_id\u001b[38;5;132;01m}\u001b[39;00m\u001b[38;5;124m'\u001b[39m\u001b[38;5;124m. Use `repo_type` argument if needed.\u001b[39m\u001b[38;5;124m\"\u001b[39m\n\u001b[1;32m    161\u001b[0m     )\n\u001b[1;32m    163\u001b[0m \u001b[38;5;28;01mif\u001b[39;00m \u001b[38;5;129;01mnot\u001b[39;00m REPO_ID_REGEX\u001b[38;5;241m.\u001b[39mmatch(repo_id):\n",
      "\u001b[0;31mHFValidationError\u001b[0m: Repo id must be in the form 'repo_name' or 'namespace/repo_name': '/content/custom_full_text'. Use `repo_type` argument if needed.",
      "\nDuring handling of the above exception, another exception occurred:\n",
      "\u001b[0;31mOSError\u001b[0m                                   Traceback (most recent call last)",
      "Cell \u001b[0;32mIn[24], line 5\u001b[0m\n\u001b[1;32m      3\u001b[0m sequence1 \u001b[38;5;241m=\u001b[39m \u001b[38;5;124m\"\u001b[39m\u001b[38;5;124mWhat is the Optimist NFT?\u001b[39m\u001b[38;5;124m\"\u001b[39m\n\u001b[1;32m      4\u001b[0m max_len \u001b[38;5;241m=\u001b[39m \u001b[38;5;241m50\u001b[39m\n\u001b[0;32m----> 5\u001b[0m \u001b[43mgenerate_text\u001b[49m\u001b[43m(\u001b[49m\u001b[43mmodel1_path\u001b[49m\u001b[43m,\u001b[49m\u001b[43m \u001b[49m\u001b[43msequence1\u001b[49m\u001b[43m,\u001b[49m\u001b[43m \u001b[49m\u001b[43mmax_len\u001b[49m\u001b[43m)\u001b[49m\n",
      "Cell \u001b[0;32mIn[22], line 12\u001b[0m, in \u001b[0;36mgenerate_text\u001b[0;34m(model_path, sequence, max_length)\u001b[0m\n\u001b[1;32m     10\u001b[0m \u001b[38;5;28;01mdef\u001b[39;00m \u001b[38;5;21mgenerate_text\u001b[39m(model_path, sequence, max_length):\n\u001b[0;32m---> 12\u001b[0m     model \u001b[38;5;241m=\u001b[39m \u001b[43mload_model\u001b[49m\u001b[43m(\u001b[49m\u001b[43mmodel_path\u001b[49m\u001b[43m)\u001b[49m\n\u001b[1;32m     13\u001b[0m     tokenizer \u001b[38;5;241m=\u001b[39m load_tokenizer(model_path)\n\u001b[1;32m     14\u001b[0m     ids \u001b[38;5;241m=\u001b[39m tokenizer\u001b[38;5;241m.\u001b[39mencode(\u001b[38;5;124mf\u001b[39m\u001b[38;5;124m'\u001b[39m\u001b[38;5;132;01m{\u001b[39;00msequence\u001b[38;5;132;01m}\u001b[39;00m\u001b[38;5;124m'\u001b[39m, return_tensors\u001b[38;5;241m=\u001b[39m\u001b[38;5;124m'\u001b[39m\u001b[38;5;124mpt\u001b[39m\u001b[38;5;124m'\u001b[39m)\n",
      "Cell \u001b[0;32mIn[22], line 2\u001b[0m, in \u001b[0;36mload_model\u001b[0;34m(model_path)\u001b[0m\n\u001b[1;32m      1\u001b[0m \u001b[38;5;28;01mdef\u001b[39;00m \u001b[38;5;21mload_model\u001b[39m(model_path):\n\u001b[0;32m----> 2\u001b[0m     model \u001b[38;5;241m=\u001b[39m \u001b[43mGPT2LMHeadModel\u001b[49m\u001b[38;5;241;43m.\u001b[39;49m\u001b[43mfrom_pretrained\u001b[49m\u001b[43m(\u001b[49m\u001b[43mmodel_path\u001b[49m\u001b[43m)\u001b[49m\n\u001b[1;32m      3\u001b[0m     \u001b[38;5;28;01mreturn\u001b[39;00m model\n",
      "File \u001b[0;32m~/anaconda3/lib/python3.10/site-packages/transformers/modeling_utils.py:2251\u001b[0m, in \u001b[0;36mPreTrainedModel.from_pretrained\u001b[0;34m(cls, pretrained_model_name_or_path, *model_args, **kwargs)\u001b[0m\n\u001b[1;32m   2249\u001b[0m \u001b[38;5;28;01mif\u001b[39;00m \u001b[38;5;129;01mnot\u001b[39;00m \u001b[38;5;28misinstance\u001b[39m(config, PretrainedConfig):\n\u001b[1;32m   2250\u001b[0m     config_path \u001b[38;5;241m=\u001b[39m config \u001b[38;5;28;01mif\u001b[39;00m config \u001b[38;5;129;01mis\u001b[39;00m \u001b[38;5;129;01mnot\u001b[39;00m \u001b[38;5;28;01mNone\u001b[39;00m \u001b[38;5;28;01melse\u001b[39;00m pretrained_model_name_or_path\n\u001b[0;32m-> 2251\u001b[0m     config, model_kwargs \u001b[38;5;241m=\u001b[39m \u001b[38;5;28;43mcls\u001b[39;49m\u001b[38;5;241;43m.\u001b[39;49m\u001b[43mconfig_class\u001b[49m\u001b[38;5;241;43m.\u001b[39;49m\u001b[43mfrom_pretrained\u001b[49m\u001b[43m(\u001b[49m\n\u001b[1;32m   2252\u001b[0m \u001b[43m        \u001b[49m\u001b[43mconfig_path\u001b[49m\u001b[43m,\u001b[49m\n\u001b[1;32m   2253\u001b[0m \u001b[43m        \u001b[49m\u001b[43mcache_dir\u001b[49m\u001b[38;5;241;43m=\u001b[39;49m\u001b[43mcache_dir\u001b[49m\u001b[43m,\u001b[49m\n\u001b[1;32m   2254\u001b[0m \u001b[43m        \u001b[49m\u001b[43mreturn_unused_kwargs\u001b[49m\u001b[38;5;241;43m=\u001b[39;49m\u001b[38;5;28;43;01mTrue\u001b[39;49;00m\u001b[43m,\u001b[49m\n\u001b[1;32m   2255\u001b[0m \u001b[43m        \u001b[49m\u001b[43mforce_download\u001b[49m\u001b[38;5;241;43m=\u001b[39;49m\u001b[43mforce_download\u001b[49m\u001b[43m,\u001b[49m\n\u001b[1;32m   2256\u001b[0m \u001b[43m        \u001b[49m\u001b[43mresume_download\u001b[49m\u001b[38;5;241;43m=\u001b[39;49m\u001b[43mresume_download\u001b[49m\u001b[43m,\u001b[49m\n\u001b[1;32m   2257\u001b[0m \u001b[43m        \u001b[49m\u001b[43mproxies\u001b[49m\u001b[38;5;241;43m=\u001b[39;49m\u001b[43mproxies\u001b[49m\u001b[43m,\u001b[49m\n\u001b[1;32m   2258\u001b[0m \u001b[43m        \u001b[49m\u001b[43mlocal_files_only\u001b[49m\u001b[38;5;241;43m=\u001b[39;49m\u001b[43mlocal_files_only\u001b[49m\u001b[43m,\u001b[49m\n\u001b[1;32m   2259\u001b[0m \u001b[43m        \u001b[49m\u001b[43muse_auth_token\u001b[49m\u001b[38;5;241;43m=\u001b[39;49m\u001b[43muse_auth_token\u001b[49m\u001b[43m,\u001b[49m\n\u001b[1;32m   2260\u001b[0m \u001b[43m        \u001b[49m\u001b[43mrevision\u001b[49m\u001b[38;5;241;43m=\u001b[39;49m\u001b[43mrevision\u001b[49m\u001b[43m,\u001b[49m\n\u001b[1;32m   2261\u001b[0m \u001b[43m        \u001b[49m\u001b[43msubfolder\u001b[49m\u001b[38;5;241;43m=\u001b[39;49m\u001b[43msubfolder\u001b[49m\u001b[43m,\u001b[49m\n\u001b[1;32m   2262\u001b[0m \u001b[43m        \u001b[49m\u001b[43m_from_auto\u001b[49m\u001b[38;5;241;43m=\u001b[39;49m\u001b[43mfrom_auto_class\u001b[49m\u001b[43m,\u001b[49m\n\u001b[1;32m   2263\u001b[0m \u001b[43m        \u001b[49m\u001b[43m_from_pipeline\u001b[49m\u001b[38;5;241;43m=\u001b[39;49m\u001b[43mfrom_pipeline\u001b[49m\u001b[43m,\u001b[49m\n\u001b[1;32m   2264\u001b[0m \u001b[43m        \u001b[49m\u001b[38;5;241;43m*\u001b[39;49m\u001b[38;5;241;43m*\u001b[39;49m\u001b[43mkwargs\u001b[49m\u001b[43m,\u001b[49m\n\u001b[1;32m   2265\u001b[0m \u001b[43m    \u001b[49m\u001b[43m)\u001b[49m\n\u001b[1;32m   2266\u001b[0m \u001b[38;5;28;01melse\u001b[39;00m:\n\u001b[1;32m   2267\u001b[0m     model_kwargs \u001b[38;5;241m=\u001b[39m kwargs\n",
      "File \u001b[0;32m~/anaconda3/lib/python3.10/site-packages/transformers/configuration_utils.py:547\u001b[0m, in \u001b[0;36mPretrainedConfig.from_pretrained\u001b[0;34m(cls, pretrained_model_name_or_path, **kwargs)\u001b[0m\n\u001b[1;32m    469\u001b[0m \u001b[38;5;129m@classmethod\u001b[39m\n\u001b[1;32m    470\u001b[0m \u001b[38;5;28;01mdef\u001b[39;00m \u001b[38;5;21mfrom_pretrained\u001b[39m(\u001b[38;5;28mcls\u001b[39m, pretrained_model_name_or_path: Union[\u001b[38;5;28mstr\u001b[39m, os\u001b[38;5;241m.\u001b[39mPathLike], \u001b[38;5;241m*\u001b[39m\u001b[38;5;241m*\u001b[39mkwargs) \u001b[38;5;241m-\u001b[39m\u001b[38;5;241m>\u001b[39m \u001b[38;5;124m\"\u001b[39m\u001b[38;5;124mPretrainedConfig\u001b[39m\u001b[38;5;124m\"\u001b[39m:\n\u001b[1;32m    471\u001b[0m \u001b[38;5;250m    \u001b[39m\u001b[38;5;124mr\u001b[39m\u001b[38;5;124;03m\"\"\"\u001b[39;00m\n\u001b[1;32m    472\u001b[0m \u001b[38;5;124;03m    Instantiate a [`PretrainedConfig`] (or a derived class) from a pretrained model configuration.\u001b[39;00m\n\u001b[1;32m    473\u001b[0m \n\u001b[0;32m   (...)\u001b[0m\n\u001b[1;32m    545\u001b[0m \u001b[38;5;124;03m    assert unused_kwargs == {\"foo\": False}\u001b[39;00m\n\u001b[1;32m    546\u001b[0m \u001b[38;5;124;03m    ```\"\"\"\u001b[39;00m\n\u001b[0;32m--> 547\u001b[0m     config_dict, kwargs \u001b[38;5;241m=\u001b[39m \u001b[38;5;28;43mcls\u001b[39;49m\u001b[38;5;241;43m.\u001b[39;49m\u001b[43mget_config_dict\u001b[49m\u001b[43m(\u001b[49m\u001b[43mpretrained_model_name_or_path\u001b[49m\u001b[43m,\u001b[49m\u001b[43m \u001b[49m\u001b[38;5;241;43m*\u001b[39;49m\u001b[38;5;241;43m*\u001b[39;49m\u001b[43mkwargs\u001b[49m\u001b[43m)\u001b[49m\n\u001b[1;32m    548\u001b[0m     \u001b[38;5;28;01mif\u001b[39;00m \u001b[38;5;124m\"\u001b[39m\u001b[38;5;124mmodel_type\u001b[39m\u001b[38;5;124m\"\u001b[39m \u001b[38;5;129;01min\u001b[39;00m config_dict \u001b[38;5;129;01mand\u001b[39;00m \u001b[38;5;28mhasattr\u001b[39m(\u001b[38;5;28mcls\u001b[39m, \u001b[38;5;124m\"\u001b[39m\u001b[38;5;124mmodel_type\u001b[39m\u001b[38;5;124m\"\u001b[39m) \u001b[38;5;129;01mand\u001b[39;00m config_dict[\u001b[38;5;124m\"\u001b[39m\u001b[38;5;124mmodel_type\u001b[39m\u001b[38;5;124m\"\u001b[39m] \u001b[38;5;241m!=\u001b[39m \u001b[38;5;28mcls\u001b[39m\u001b[38;5;241m.\u001b[39mmodel_type:\n\u001b[1;32m    549\u001b[0m         logger\u001b[38;5;241m.\u001b[39mwarning(\n\u001b[1;32m    550\u001b[0m             \u001b[38;5;124mf\u001b[39m\u001b[38;5;124m\"\u001b[39m\u001b[38;5;124mYou are using a model of type \u001b[39m\u001b[38;5;132;01m{\u001b[39;00mconfig_dict[\u001b[38;5;124m'\u001b[39m\u001b[38;5;124mmodel_type\u001b[39m\u001b[38;5;124m'\u001b[39m]\u001b[38;5;132;01m}\u001b[39;00m\u001b[38;5;124m to instantiate a model of type \u001b[39m\u001b[38;5;124m\"\u001b[39m\n\u001b[1;32m    551\u001b[0m             \u001b[38;5;124mf\u001b[39m\u001b[38;5;124m\"\u001b[39m\u001b[38;5;132;01m{\u001b[39;00m\u001b[38;5;28mcls\u001b[39m\u001b[38;5;241m.\u001b[39mmodel_type\u001b[38;5;132;01m}\u001b[39;00m\u001b[38;5;124m. This is not supported for all configurations of models and can yield errors.\u001b[39m\u001b[38;5;124m\"\u001b[39m\n\u001b[1;32m    552\u001b[0m         )\n",
      "File \u001b[0;32m~/anaconda3/lib/python3.10/site-packages/transformers/configuration_utils.py:574\u001b[0m, in \u001b[0;36mPretrainedConfig.get_config_dict\u001b[0;34m(cls, pretrained_model_name_or_path, **kwargs)\u001b[0m\n\u001b[1;32m    572\u001b[0m original_kwargs \u001b[38;5;241m=\u001b[39m copy\u001b[38;5;241m.\u001b[39mdeepcopy(kwargs)\n\u001b[1;32m    573\u001b[0m \u001b[38;5;66;03m# Get config dict associated with the base config file\u001b[39;00m\n\u001b[0;32m--> 574\u001b[0m config_dict, kwargs \u001b[38;5;241m=\u001b[39m \u001b[38;5;28;43mcls\u001b[39;49m\u001b[38;5;241;43m.\u001b[39;49m\u001b[43m_get_config_dict\u001b[49m\u001b[43m(\u001b[49m\u001b[43mpretrained_model_name_or_path\u001b[49m\u001b[43m,\u001b[49m\u001b[43m \u001b[49m\u001b[38;5;241;43m*\u001b[39;49m\u001b[38;5;241;43m*\u001b[39;49m\u001b[43mkwargs\u001b[49m\u001b[43m)\u001b[49m\n\u001b[1;32m    575\u001b[0m \u001b[38;5;28;01mif\u001b[39;00m \u001b[38;5;124m\"\u001b[39m\u001b[38;5;124m_commit_hash\u001b[39m\u001b[38;5;124m\"\u001b[39m \u001b[38;5;129;01min\u001b[39;00m config_dict:\n\u001b[1;32m    576\u001b[0m     original_kwargs[\u001b[38;5;124m\"\u001b[39m\u001b[38;5;124m_commit_hash\u001b[39m\u001b[38;5;124m\"\u001b[39m] \u001b[38;5;241m=\u001b[39m config_dict[\u001b[38;5;124m\"\u001b[39m\u001b[38;5;124m_commit_hash\u001b[39m\u001b[38;5;124m\"\u001b[39m]\n",
      "File \u001b[0;32m~/anaconda3/lib/python3.10/site-packages/transformers/configuration_utils.py:650\u001b[0m, in \u001b[0;36mPretrainedConfig._get_config_dict\u001b[0;34m(cls, pretrained_model_name_or_path, **kwargs)\u001b[0m\n\u001b[1;32m    647\u001b[0m         \u001b[38;5;28;01mraise\u001b[39;00m\n\u001b[1;32m    648\u001b[0m     \u001b[38;5;28;01mexcept\u001b[39;00m \u001b[38;5;167;01mException\u001b[39;00m:\n\u001b[1;32m    649\u001b[0m         \u001b[38;5;66;03m# For any other exception, we throw a generic error.\u001b[39;00m\n\u001b[0;32m--> 650\u001b[0m         \u001b[38;5;28;01mraise\u001b[39;00m \u001b[38;5;167;01mEnvironmentError\u001b[39;00m(\n\u001b[1;32m    651\u001b[0m             \u001b[38;5;124mf\u001b[39m\u001b[38;5;124m\"\u001b[39m\u001b[38;5;124mCan\u001b[39m\u001b[38;5;124m'\u001b[39m\u001b[38;5;124mt load the configuration of \u001b[39m\u001b[38;5;124m'\u001b[39m\u001b[38;5;132;01m{\u001b[39;00mpretrained_model_name_or_path\u001b[38;5;132;01m}\u001b[39;00m\u001b[38;5;124m'\u001b[39m\u001b[38;5;124m. If you were trying to load it\u001b[39m\u001b[38;5;124m\"\u001b[39m\n\u001b[1;32m    652\u001b[0m             \u001b[38;5;124m\"\u001b[39m\u001b[38;5;124m from \u001b[39m\u001b[38;5;124m'\u001b[39m\u001b[38;5;124mhttps://huggingface.co/models\u001b[39m\u001b[38;5;124m'\u001b[39m\u001b[38;5;124m, make sure you don\u001b[39m\u001b[38;5;124m'\u001b[39m\u001b[38;5;124mt have a local directory with the same\u001b[39m\u001b[38;5;124m\"\u001b[39m\n\u001b[1;32m    653\u001b[0m             \u001b[38;5;124mf\u001b[39m\u001b[38;5;124m\"\u001b[39m\u001b[38;5;124m name. Otherwise, make sure \u001b[39m\u001b[38;5;124m'\u001b[39m\u001b[38;5;132;01m{\u001b[39;00mpretrained_model_name_or_path\u001b[38;5;132;01m}\u001b[39;00m\u001b[38;5;124m'\u001b[39m\u001b[38;5;124m is the correct path to a directory\u001b[39m\u001b[38;5;124m\"\u001b[39m\n\u001b[1;32m    654\u001b[0m             \u001b[38;5;124mf\u001b[39m\u001b[38;5;124m\"\u001b[39m\u001b[38;5;124m containing a \u001b[39m\u001b[38;5;132;01m{\u001b[39;00mconfiguration_file\u001b[38;5;132;01m}\u001b[39;00m\u001b[38;5;124m file\u001b[39m\u001b[38;5;124m\"\u001b[39m\n\u001b[1;32m    655\u001b[0m         )\n\u001b[1;32m    657\u001b[0m \u001b[38;5;28;01mtry\u001b[39;00m:\n\u001b[1;32m    658\u001b[0m     \u001b[38;5;66;03m# Load config dict\u001b[39;00m\n\u001b[1;32m    659\u001b[0m     config_dict \u001b[38;5;241m=\u001b[39m \u001b[38;5;28mcls\u001b[39m\u001b[38;5;241m.\u001b[39m_dict_from_json_file(resolved_config_file)\n",
      "\u001b[0;31mOSError\u001b[0m: Can't load the configuration of '/content/custom_full_text'. If you were trying to load it from 'https://huggingface.co/models', make sure you don't have a local directory with the same name. Otherwise, make sure '/content/custom_full_text' is the correct path to a directory containing a config.json file"
     ]
    }
   ],
   "source": [
    "# model1_path = \"/content/drive/MyDrive/ColabNotebooks/models/chat_models/custom_full_text\"\n",
    "model1_path = \"/content/custom_full_text\"\n",
    "sequence1 = \"What is the Optimist NFT?\"\n",
    "max_len = 50\n",
    "generate_text(model1_path, sequence1, max_len)"
   ]
  },
  {
   "cell_type": "markdown",
   "metadata": {
    "id": "dCxvbeKfRs35"
   },
   "source": [
    "The following model was trained on 100 questions and answers based on the original text and it trained in a few seconds (50 epochs). It gives very meaningful results."
   ]
  },
  {
   "cell_type": "code",
   "execution_count": null,
   "metadata": {},
   "outputs": [],
   "source": []
  }
 ],
 "metadata": {
  "colab": {
   "provenance": []
  },
  "kernelspec": {
   "display_name": "Python 3 (ipykernel)",
   "language": "python",
   "name": "python3"
  },
  "language_info": {
   "codemirror_mode": {
    "name": "ipython",
    "version": 3
   },
   "file_extension": ".py",
   "mimetype": "text/x-python",
   "name": "python",
   "nbconvert_exporter": "python",
   "pygments_lexer": "ipython3",
   "version": "3.10.9"
  }
 },
 "nbformat": 4,
 "nbformat_minor": 1
}
